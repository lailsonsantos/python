{
 "cells": [
  {
   "cell_type": "code",
   "execution_count": null,
   "metadata": {
    "colab": {},
    "colab_type": "code",
    "id": "u_UeFLvC9jWv"
   },
   "outputs": [],
   "source": [
    "#Disciplina: Solucoes de Mineracao de dados\n",
    "#--------------------------------------------------------\n",
    "#Script para a analise exploratoria dos dados (AED)\n",
    "#--------------------------------------------------------\n",
    "\n",
    "\n",
    "# Importando as bibliotecas necessarias\n",
    "import os\n",
    "import zipfile\n",
    "import pandas\n",
    "import numpy as np\n",
    "from pandas.plotting import scatter_matrix\n",
    "import matplotlib.pyplot as plt\n",
    "from sklearn.preprocessing import MinMaxScaler\n",
    "plt.rcParams['figure.figsize'] = [16, 10]\n",
    "pandas.set_option('display.max_columns', None)\n",
    "\n",
    "# Fazendo o carregamento dos dados diretamente do UCI Machine Learning\n",
    "dataset = pandas.read_csv(\"/content/bank.csv\", delimiter=\";\", header='infer')\n",
    "\n",
    "print(\"Apresentando o shape dos dados (dimenssoes)\")\n",
    "print(dataset.shape)\n",
    "\n",
    "print(\"Visualizando o conjunto inicial (head) dos dados, ou mais claramente, os 5 primeiros registros (head(5))\")\n",
    "print(dataset.head(5))\n",
    "\n",
    "print(\"Conhecendo os dados estatisticos dos dados carregados (describe)\")\n",
    "print(dataset.describe())\n",
    "\n",
    "print(\"Conhecendo a distribuicao dos dados por classes (class distribution)\")\n",
    "dataset = dataset.rename(columns={'y': 'class'})\n",
    "print(dataset.groupby('class').size())\n",
    "\n",
    "print(\"Criando grafios de caixa da distribuicao das classes\")\n",
    "dataset.plot(kind='box', subplots=True, layout=(3,3), sharex=False, sharey=False)\n",
    "plt.show()\n",
    "\n",
    "print(\"Criando histogramas dos dados por classes\")\n",
    "dataset.hist()\n",
    "plt.show()\n",
    "\n",
    "print(\"Criando graficos de dispersao dos dados com paleta de cores\")\n",
    "colors_palette = {'no': 'red', 'yes': 'green'}\n",
    "colors = [colors_palette[c] for c in dataset['class']]\n",
    "scatter_matrix(dataset, c=colors)\n",
    "#plt.savefig('tste_fig')\n",
    "plt.show()\n",
    "\n",
    "#realizando a selecão de atributos numericos para normalizacao MinMax\n",
    "num_cols = dataset.columns[dataset.dtypes.apply(lambda c: np.issubdtype(c, np.number))]\n",
    "min_max_scaler = MinMaxScaler()\n",
    "dataset[num_cols] = min_max_scaler.fit_transform(dataset[num_cols])\n",
    "\n",
    "# Get dummy variables for categorical vars\n",
    "data_w_dummies = pandas.get_dummies(dataset, prefix_sep='_', drop_first=True)\n",
    "\n",
    "# X head\n",
    "print(data_w_dummies.head())"
   ]
  }
 ],
 "metadata": {
  "colab": {
   "collapsed_sections": [],
   "name": "AnaliseExploratoria-BANK.ipynb",
   "provenance": []
  },
  "kernelspec": {
   "display_name": "Python 3",
   "language": "python",
   "name": "python3"
  },
  "language_info": {
   "codemirror_mode": {
    "name": "ipython",
    "version": 3
   },
   "file_extension": ".py",
   "mimetype": "text/x-python",
   "name": "python",
   "nbconvert_exporter": "python",
   "pygments_lexer": "ipython3",
   "version": "3.7.6"
  }
 },
 "nbformat": 4,
 "nbformat_minor": 1
}
