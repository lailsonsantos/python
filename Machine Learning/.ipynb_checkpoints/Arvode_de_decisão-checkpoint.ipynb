{
 "cells": [
  {
   "cell_type": "code",
   "execution_count": 1,
   "metadata": {},
   "outputs": [
    {
     "name": "stdout",
     "output_type": "stream",
     "text": [
      "Arvore de decisao gerada no diretorio!\n"
     ]
    }
   ],
   "source": [
    "# Importar as bibliotecas\n",
    "\n",
    "import numpy as np\n",
    "from sklearn import datasets\n",
    "from sklearn import tree"
   ]
  },
  {
   "cell_type": "code",
   "execution_count": null,
   "metadata": {},
   "outputs": [],
   "source": [
    "# Carrega a base de dados iris\n",
    "\n",
    "iris = datasets.load_iris()\n",
    "X = iris.data\n",
    "y = iris.target"
   ]
  },
  {
   "cell_type": "code",
   "execution_count": null,
   "metadata": {},
   "outputs": [],
   "source": [
    "# Constroi um classificador com árvore de decisão\n",
    "\n",
    "dt = tree.DecisionTreeClassifier(criterion = 'entropy') # Cria o objeto para gerar a árvore\n",
    "dt.fit(X, y) # Treina o modelo com o algoritmo"
   ]
  },
  {
   "cell_type": "code",
   "execution_count": null,
   "metadata": {},
   "outputs": [],
   "source": [
    "# Cria um arquivo chamado \"dt-iris.dot\"\n",
    "\n",
    "dotfile = open(\"dt-iris.dot\", 'w')\n",
    "tree.export_graphviz(dt, out_file = dotfile, feature_names = iris.feature_names)\n",
    "dotfile.close()\n",
    "print(\"Arvore de decisao gerada no diretorio!\")"
   ]
  }
 ],
 "metadata": {
  "kernelspec": {
   "display_name": "Python 3",
   "language": "python",
   "name": "python3"
  },
  "language_info": {
   "codemirror_mode": {
    "name": "ipython",
    "version": 3
   },
   "file_extension": ".py",
   "mimetype": "text/x-python",
   "name": "python",
   "nbconvert_exporter": "python",
   "pygments_lexer": "ipython3",
   "version": "3.7.6"
  }
 },
 "nbformat": 4,
 "nbformat_minor": 4
}
