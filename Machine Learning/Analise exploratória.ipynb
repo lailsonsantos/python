{
 "cells": [
  {
   "cell_type": "markdown",
   "metadata": {},
   "source": [
    "# Analise exploratória do Dataframe Bank (http://archive.ics.uci.edu/ml/datasets/Bank+Marketing) \n",
    "\n",
    "1. Do que se trata?\n",
    "Base de dados com o perfil dos bons e maus pagadores de empréstimo.\n",
    "2. Qual o objetivo?\n",
    "Entender qual o perfil dos bons e maus pagadores de empréstimo.\n",
    "4. Gerar todos os gráficos com nomes das colunas.\n",
    "5. O que a análise exploratória mostra?"
   ]
  },
  {
   "cell_type": "markdown",
   "metadata": {},
   "source": [
    "## Descrição das bibliotecas\n",
    "\n",
    "- pandas: Biblioteca de manipulação de dados.\n",
    "- seaborn: Biblioteca baseada na matplotlib para visualização de dados.\n",
    "- numpy: Biblioteca usado para cálculo matemático.\n",
    "- matplotlib: Biblioteca usada para plotar gráficos 2D.\n",
    "- scipy: Biblioteca usada para calculos estatísticos."
   ]
  },
  {
   "cell_type": "code",
   "execution_count": null,
   "metadata": {},
   "outputs": [],
   "source": [
    "# Importar bibliotecas\n",
    "import pandas as pd\n",
    "import seaborn as sns\n",
    "import numpy as np\n",
    "import matplotlib.pyplot as plt\n",
    "from scipy import stats"
   ]
  },
  {
   "cell_type": "code",
   "execution_count": null,
   "metadata": {},
   "outputs": [],
   "source": [
    "# Versão da biblioteca Pandas\n",
    "pd.__version__"
   ]
  },
  {
   "cell_type": "code",
   "execution_count": null,
   "metadata": {},
   "outputs": [],
   "source": [
    "# Versão da biblioteca Seaborn\n",
    "sns.__version__"
   ]
  },
  {
   "cell_type": "code",
   "execution_count": null,
   "metadata": {},
   "outputs": [],
   "source": [
    "# Versão da biblioteca Numpy\n",
    "np.__version__"
   ]
  },
  {
   "cell_type": "code",
   "execution_count": null,
   "metadata": {},
   "outputs": [],
   "source": [
    "# Versão da biblioteca Matplotlib\n",
    "import matplotlib\n",
    "matplotlib.__version__"
   ]
  },
  {
   "cell_type": "markdown",
   "metadata": {},
   "source": [
    "## Trabalhando com Séries\n",
    "\n",
    "Série é um tipo de array unidimensional, semelhante a lista em Python, com índices mutáveis. Toda série começa com o índice 0(zero)"
   ]
  },
  {
   "cell_type": "code",
   "execution_count": null,
   "metadata": {},
   "outputs": [],
   "source": [
    "# Criando Série\n",
    "\n",
    "my_serie = pd.Series([10, 20, 30, 40, 50])\n",
    "print(my_serie)"
   ]
  },
  {
   "cell_type": "code",
   "execution_count": null,
   "metadata": {},
   "outputs": [],
   "source": [
    "# Retornar o valor da série através de índice\n",
    "print(my_serie[2])"
   ]
  },
  {
   "cell_type": "code",
   "execution_count": null,
   "metadata": {},
   "outputs": [],
   "source": [
    "# Inserir índice a série\n",
    "my_serie.index = ['A', 'B', 'C', 'D', 'E']\n",
    "print(my_serie)"
   ]
  },
  {
   "cell_type": "code",
   "execution_count": null,
   "metadata": {},
   "outputs": [],
   "source": [
    "# Retornar o índice com valor 'A'\n",
    "print(my_serie['A'])"
   ]
  },
  {
   "cell_type": "markdown",
   "metadata": {},
   "source": [
    "## Trabalhando com Dataframes\n",
    "\n",
    "Dataframe é uma estrutura multidimensional e mutável em tamanho, com linhas e colunas"
   ]
  },
  {
   "cell_type": "code",
   "execution_count": null,
   "metadata": {},
   "outputs": [],
   "source": [
    "# Inicializar Dataframe\n",
    "dados = {'Indice' : ['A', 'B', 'C', 'D', 'E'],\n",
    "            'Valor': [1, 2, 3, 4, 5]}"
   ]
  },
  {
   "cell_type": "code",
   "execution_count": null,
   "metadata": {},
   "outputs": [],
   "source": [
    "# Criar Dataframe\n",
    "dataframe = pd.DataFrame(dados)"
   ]
  },
  {
   "cell_type": "code",
   "execution_count": null,
   "metadata": {},
   "outputs": [],
   "source": [
    "# Mostrar Dataframe\n",
    "dataframe"
   ]
  },
  {
   "cell_type": "code",
   "execution_count": null,
   "metadata": {},
   "outputs": [],
   "source": [
    "# Importar arquivo CSV com Pandas\n",
    "arquivo_csv = pd.read_csv(\"dados/bank.csv\", sep = \";\")"
   ]
  },
  {
   "cell_type": "code",
   "execution_count": null,
   "metadata": {},
   "outputs": [],
   "source": [
    "# Primeiros 5 registros do dataframe\n",
    "arquivo_csv.head()"
   ]
  },
  {
   "cell_type": "code",
   "execution_count": null,
   "metadata": {},
   "outputs": [],
   "source": [
    "# Quantidade de linhas e colunas do Dataframe - np é da bilbioteca numpy\n",
    "np.shape(arquivo_csv)"
   ]
  },
  {
   "cell_type": "code",
   "execution_count": null,
   "metadata": {},
   "outputs": [],
   "source": [
    "# Ultimos 5 registros do dataframe\n",
    "arquivo_csv.tail()"
   ]
  },
  {
   "cell_type": "code",
   "execution_count": null,
   "metadata": {},
   "outputs": [],
   "source": [
    "# Mostra as colunas do Dataframe\n",
    "arquivo_csv.columns"
   ]
  },
  {
   "cell_type": "code",
   "execution_count": null,
   "metadata": {},
   "outputs": [],
   "source": [
    "# Contagem de dados não nulos por coluna\n",
    "arquivo_csv.count()"
   ]
  },
  {
   "cell_type": "code",
   "execution_count": null,
   "metadata": {},
   "outputs": [],
   "source": [
    "# Soma dos valores de um Dataframe por coluna - os dados precisam ser numéricos\n",
    "arquivo_csv.sum()"
   ]
  },
  {
   "cell_type": "code",
   "execution_count": null,
   "metadata": {},
   "outputs": [],
   "source": [
    "# Menor valor do Dataframe por coluna - os dados precisam ser numéricos\n",
    "arquivo_csv.min()"
   ]
  },
  {
   "cell_type": "code",
   "execution_count": null,
   "metadata": {},
   "outputs": [],
   "source": [
    "# Maior valor do Dataframe por coluna - os dados precisam ser númericos\n",
    "arquivo_csv.max()"
   ]
  },
  {
   "cell_type": "code",
   "execution_count": null,
   "metadata": {},
   "outputs": [],
   "source": [
    "# Descrição detalhada das informações do Dataframe\n",
    "# a função 'describe()' desconsidera os valores NaN (nulos)\n",
    "arquivo_csv.describe()"
   ]
  },
  {
   "cell_type": "markdown",
   "metadata": {},
   "source": [
    "## Trabalhando com funções matemáticas da biblioteca Pandas"
   ]
  },
  {
   "cell_type": "code",
   "execution_count": null,
   "metadata": {},
   "outputs": [],
   "source": [
    "# Média - soma de todos os valores, dividido pela quantidade de valores\n",
    "media_balance = arquivo_csv['balance'].sum() / len(arquivo_csv['balance'])\n",
    "print(media_balance)\n",
    "\n",
    "# A média também pode ser calculada dessa forma\n",
    "arquivo_csv['balance'].mean()"
   ]
  },
  {
   "cell_type": "code",
   "execution_count": null,
   "metadata": {},
   "outputs": [],
   "source": [
    "# Mediana - valor central de uma lista ordenada crescente ou decrescente\n",
    "mediana_balance = arquivo_csv['balance'].median()\n",
    "print(mediana_balance)"
   ]
  },
  {
   "cell_type": "code",
   "execution_count": null,
   "metadata": {},
   "outputs": [],
   "source": [
    "# Moda - número que aparece com maior frequência. Se tiver mais de um valor que aparece com a mesma frequência, não existe moda\n",
    "moda_balance = arquivo_csv['balance'].mode()\n",
    "print(moda_balance)"
   ]
  },
  {
   "cell_type": "code",
   "execution_count": null,
   "metadata": {},
   "outputs": [],
   "source": [
    "# Média geométrica - crescimento exponencial, é a raiz n-ésima do produto dos n valores de um conjunto de dados\n",
    "# Não pode conter o valor 0(zero) nos dados\n",
    "#media_geometrica = stats.gmean(arquivo_csv['balance'], axis = 0)\n",
    "\n",
    "# As idades na coluna 'age', é um exemplo sem valor 0(zero)\n",
    "media_geometrica = stats.gmean(arquivo_csv['age'], axis = 0)\n",
    "print(media_geometrica)"
   ]
  },
  {
   "cell_type": "code",
   "execution_count": null,
   "metadata": {},
   "outputs": [],
   "source": [
    "# Média harmônica - o menor dos dados, o inverso da média dos inversos de um conjunto de dados\n",
    "# Não pode conter o valor 0(zero) nos dados\n",
    "#media_harmonica = stats.hmean(arquivo_csv['balance'], axis = 0)\n",
    "\n",
    "# As idades na coluna 'age', é um exemplo sem valor 0(zero)\n",
    "media_harmonica = stats.hmean(arquivo_csv['age'], axis = 0)\n",
    "print(media_harmonica)"
   ]
  },
  {
   "cell_type": "markdown",
   "metadata": {},
   "source": [
    "### Medidas de dispersão ou variabilidade da biblioteca Pandas"
   ]
  },
  {
   "cell_type": "code",
   "execution_count": null,
   "metadata": {},
   "outputs": [],
   "source": [
    "# Amplitude - diferença entre o maior valor e o menor valor\n",
    "amplitude = arquivo_csv['balance'].max() - arquivo_csv['balance'].min()\n",
    "print(amplitude)"
   ]
  },
  {
   "cell_type": "code",
   "execution_count": null,
   "metadata": {},
   "outputs": [],
   "source": [
    "# Variância - média dos quadrados dos desvios das medias em relação a sua média\n",
    "variancia = arquivo_csv['balance'].var()\n",
    "print(variancia)"
   ]
  },
  {
   "cell_type": "code",
   "execution_count": null,
   "metadata": {},
   "outputs": [],
   "source": [
    "# Desvio padrão - raiz quadrada da média aritmética dos quadrados dos desvios em relação a média\n",
    "# É a medida mais importante de variabilidade\n",
    "desvio_padrao = arquivo_csv['balance'].std()\n",
    "print(desvio_padrao)"
   ]
  },
  {
   "cell_type": "code",
   "execution_count": null,
   "metadata": {},
   "outputs": [],
   "source": [
    "# Describe da coluna 'balance'\n",
    "descricao = arquivo_csv['balance'].describe()\n",
    "print(descricao)"
   ]
  },
  {
   "cell_type": "markdown",
   "metadata": {},
   "source": [
    "## Visualização gráfica de dados"
   ]
  },
  {
   "cell_type": "markdown",
   "metadata": {},
   "source": [
    "### Histograma"
   ]
  },
  {
   "cell_type": "code",
   "execution_count": null,
   "metadata": {},
   "outputs": [],
   "source": [
    "sns.distplot(arquivo_csv['balance'])"
   ]
  },
  {
   "cell_type": "code",
   "execution_count": null,
   "metadata": {},
   "outputs": [],
   "source": [
    "plt.hist(arquivo_csv['balance'])"
   ]
  },
  {
   "cell_type": "markdown",
   "metadata": {},
   "source": [
    "### Barras e linhas"
   ]
  },
  {
   "cell_type": "code",
   "execution_count": null,
   "metadata": {},
   "outputs": [],
   "source": [
    "# kind - informa o tipo da barra a ser plotada\n",
    "# Opções: point, bar, strip (padrão), swarm, box, violin, or boxen.\n",
    "sns.catplot(data = arquivo_csv, x = 'balance' kind = 'count')"
   ]
  },
  {
   "cell_type": "code",
   "execution_count": null,
   "metadata": {},
   "outputs": [],
   "source": [
    "sns.catplot(x = 'balance', y = 'age', hue = 'y', kind = 'bar', data = arquivo_csv, aspect = 2)"
   ]
  },
  {
   "cell_type": "code",
   "execution_count": null,
   "metadata": {},
   "outputs": [],
   "source": [
    "sns.relplot(data = arquivo_csv['balance'], kind = 'line', aspect = 2)"
   ]
  },
  {
   "cell_type": "markdown",
   "metadata": {},
   "source": [
    "### Setores"
   ]
  },
  {
   "cell_type": "code",
   "execution_count": null,
   "metadata": {},
   "outputs": [],
   "source": [
    "# gráfico de pizza\n",
    "label = 'balance', 'age'\n",
    "valores = (arquivo_csv['balance'].mean(), arquivo_csv['age'].mean())\n",
    "offsets = (0.1, 0.1)\n",
    "plt.pie(valores, explode = offsets, labels = label, autopct = '%1.1f%%', shadow = True, startangle = 90, colors = sns.color_palette('muted'))\n",
    "plt.axis('equal')"
   ]
  },
  {
   "cell_type": "code",
   "execution_count": null,
   "metadata": {},
   "outputs": [],
   "source": [
    "# boxplot\n",
    "sns.boxplot(data = arquivo_csv, order = ['balance'], orient = 'h')"
   ]
  },
  {
   "cell_type": "code",
   "execution_count": null,
   "metadata": {},
   "outputs": [],
   "source": [
    "# gráfico de dispersão\n",
    "sns.catplot(data = arquivo_csv)"
   ]
  },
  {
   "cell_type": "code",
   "execution_count": null,
   "metadata": {},
   "outputs": [],
   "source": [
    "# gráfico de dispersão detalhado\n",
    "sns.catplot(data = arquivo_csv, kind = 'swarm')"
   ]
  },
  {
   "cell_type": "markdown",
   "metadata": {},
   "source": [
    "### Correlação - medida se associação entre duas ou mais variáveis\n",
    "- 0,9 a 1 positivo ou negativo indica uma correlação muito forte.\n",
    "- 0,7 a 0,9 positivo ou negativo indica uma correlação forte.\n",
    "- 0,5 a 0,7 positivo ou negativo indica uma correlação moderada.\n",
    "- 0,3 a 0,5 positivo ou negativo indica uma correlação fraca.\n",
    "- 0 a 0,3 positivo ou negativo indica uma correlação desprezível."
   ]
  },
  {
   "cell_type": "code",
   "execution_count": null,
   "metadata": {},
   "outputs": [],
   "source": [
    "# correlação entre 'balance' e 'age'\n",
    "arquivo_csv['balance'].corr(arquivo['age'])"
   ]
  },
  {
   "cell_type": "code",
   "execution_count": null,
   "metadata": {},
   "outputs": [],
   "source": [
    "# correlação do dataframe\n",
    "arquivo_csv.corr()"
   ]
  }
 ],
 "metadata": {
  "kernelspec": {
   "display_name": "Python 3",
   "language": "python",
   "name": "python3"
  },
  "language_info": {
   "codemirror_mode": {
    "name": "ipython",
    "version": 3
   },
   "file_extension": ".py",
   "mimetype": "text/x-python",
   "name": "python",
   "nbconvert_exporter": "python",
   "pygments_lexer": "ipython3",
   "version": "3.7.6"
  }
 },
 "nbformat": 4,
 "nbformat_minor": 4
}
