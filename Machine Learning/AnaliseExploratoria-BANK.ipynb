{
 "cells": [
  {
   "cell_type": "code",
   "execution_count": 1,
   "metadata": {},
   "outputs": [],
   "source": [
    "#Disciplina: Solucoes de Mineracao de dados\n",
    "#--------------------------------------------------------\n",
    "#Script para a analise exploratoria dos dados (AED) - bank\n",
    "#--------------------------------------------------------\n",
    "# Importando as bibliotecas necessarias\n",
    "\n",
    "\n",
    "import os\n",
    "import zipfile\n",
    "import pandas\n",
    "import numpy as np\n",
    "from pandas.plotting import scatter_matrix\n",
    "import matplotlib.pyplot as plt\n",
    "from sklearn.model_selection import train_test_split\n",
    "from sklearn.preprocessing import MinMaxScaler\n",
    "from sklearn import neighbors\n",
    "from sklearn import tree\n",
    "plt.rcParams['figure.figsize'] = [16, 10]\n",
    "pandas.set_option('display.max_columns', None)"
   ]
  },
  {
   "cell_type": "code",
   "execution_count": 2,
   "metadata": {},
   "outputs": [],
   "source": [
    "# Fazendo o carregamento dos dados diretamente do UCI Machine Learning\n",
    "dataset = pandas.read_csv(\"dados/bank.csv\", delimiter=\";\", header='infer')"
   ]
  },
  {
   "cell_type": "code",
   "execution_count": 3,
   "metadata": {},
   "outputs": [
    {
     "name": "stdout",
     "output_type": "stream",
     "text": [
      "Apresentando o shape dos dados (dimenssoes)\n",
      "(4521, 17)\n"
     ]
    }
   ],
   "source": [
    "print(\"Apresentando o shape dos dados (dimenssoes)\")\n",
    "print(dataset.shape)"
   ]
  },
  {
   "cell_type": "code",
   "execution_count": 4,
   "metadata": {},
   "outputs": [
    {
     "name": "stdout",
     "output_type": "stream",
     "text": [
      "Visualizando o conjunto inicial (head) dos dados, ou mais claramente, os 5 primeiros registros (head(5))\n",
      "   age          job  marital  education default  balance housing loan  \\\n",
      "0   30   unemployed  married    primary      no     1787      no   no   \n",
      "1   33     services  married  secondary      no     4789     yes  yes   \n",
      "2   35   management   single   tertiary      no     1350     yes   no   \n",
      "3   30   management  married   tertiary      no     1476     yes  yes   \n",
      "4   59  blue-collar  married  secondary      no        0     yes   no   \n",
      "\n",
      "    contact  day month  duration  campaign  pdays  previous poutcome   y  \n",
      "0  cellular   19   oct        79         1     -1         0  unknown  no  \n",
      "1  cellular   11   may       220         1    339         4  failure  no  \n",
      "2  cellular   16   apr       185         1    330         1  failure  no  \n",
      "3   unknown    3   jun       199         4     -1         0  unknown  no  \n",
      "4   unknown    5   may       226         1     -1         0  unknown  no  \n"
     ]
    }
   ],
   "source": [
    "print(\"Visualizando o conjunto inicial (head) dos dados, ou mais claramente, os 5 primeiros registros (head(5))\")\n",
    "print(dataset.head(5))"
   ]
  },
  {
   "cell_type": "code",
   "execution_count": 5,
   "metadata": {},
   "outputs": [
    {
     "name": "stdout",
     "output_type": "stream",
     "text": [
      "Conhecendo os dados estatisticos dos dados carregados (describe)\n",
      "               age       balance          day     duration     campaign  \\\n",
      "count  4521.000000   4521.000000  4521.000000  4521.000000  4521.000000   \n",
      "mean     41.170095   1422.657819    15.915284   263.961292     2.793630   \n",
      "std      10.576211   3009.638142     8.247667   259.856633     3.109807   \n",
      "min      19.000000  -3313.000000     1.000000     4.000000     1.000000   \n",
      "25%      33.000000     69.000000     9.000000   104.000000     1.000000   \n",
      "50%      39.000000    444.000000    16.000000   185.000000     2.000000   \n",
      "75%      49.000000   1480.000000    21.000000   329.000000     3.000000   \n",
      "max      87.000000  71188.000000    31.000000  3025.000000    50.000000   \n",
      "\n",
      "             pdays     previous  \n",
      "count  4521.000000  4521.000000  \n",
      "mean     39.766645     0.542579  \n",
      "std     100.121124     1.693562  \n",
      "min      -1.000000     0.000000  \n",
      "25%      -1.000000     0.000000  \n",
      "50%      -1.000000     0.000000  \n",
      "75%      -1.000000     0.000000  \n",
      "max     871.000000    25.000000  \n"
     ]
    }
   ],
   "source": [
    "print(\"Conhecendo os dados estatisticos dos dados carregados (describe)\")\n",
    "print(dataset.describe())"
   ]
  },
  {
   "cell_type": "code",
   "execution_count": 8,
   "metadata": {},
   "outputs": [
    {
     "name": "stdout",
     "output_type": "stream",
     "text": [
      "Conhecendo a distribuicao dos dados por classes (class distribution)\n",
      "class\n",
      "no     4000\n",
      "yes     521\n",
      "dtype: int64\n"
     ]
    }
   ],
   "source": [
    "print(\"Conhecendo a distribuicao dos dados por classes (class distribution)\")\n",
    "dataset = dataset.rename(columns={'y': 'class'})\n",
    "print(dataset.groupby('class').size())"
   ]
  },
  {
   "cell_type": "code",
   "execution_count": 9,
   "metadata": {},
   "outputs": [],
   "source": [
    "# print(\"Criando grafios de caixa da distribuicao das classes\")\n",
    "# dataset.plot(kind='box', subplots=True, layout=(3,3), sharex=False, sharey=False)\n",
    "# plt.show()"
   ]
  },
  {
   "cell_type": "code",
   "execution_count": 10,
   "metadata": {},
   "outputs": [],
   "source": [
    "# print(\"Criando histogramas dos dados por classes\")\n",
    "# dataset.hist()\n",
    "# plt.show()"
   ]
  },
  {
   "cell_type": "code",
   "execution_count": 11,
   "metadata": {},
   "outputs": [],
   "source": [
    "# print(\"Criando graficos de dispersao dos dados com paleta de cores\")\n",
    "# colors_palette = {'no': 'red', 'yes': 'green'}\n",
    "# colors = [colors_palette[c] for c in dataset['class']]\n",
    "# scatter_matrix(dataset, c=colors)\n",
    "# #plt.savefig('tste_fig')\n",
    "# plt.show()"
   ]
  },
  {
   "cell_type": "code",
   "execution_count": 12,
   "metadata": {},
   "outputs": [],
   "source": [
    "#realizando a selecão de atributos numericos para normalizacao MinMax\n",
    "num_cols = dataset.columns[dataset.dtypes.apply(lambda c: np.issubdtype(c, np.number))]\n",
    "min_max_scaler = MinMaxScaler()\n",
    "dataset[num_cols] = min_max_scaler.fit_transform(dataset[num_cols])"
   ]
  },
  {
   "cell_type": "code",
   "execution_count": 13,
   "metadata": {},
   "outputs": [],
   "source": [
    "# Get dummy variables for categorical vars\n",
    "data_w_dummies = pandas.get_dummies(dataset, prefix_sep='_', drop_first=True)"
   ]
  },
  {
   "cell_type": "code",
   "execution_count": 14,
   "metadata": {},
   "outputs": [
    {
     "name": "stdout",
     "output_type": "stream",
     "text": [
      "Apresentando o shape dos dados (dimenssoes)\n",
      "(4521, 43)\n"
     ]
    }
   ],
   "source": [
    "#print(data_w_dummies.head())\n",
    "print(\"Apresentando o shape dos dados (dimenssoes)\")\n",
    "print(data_w_dummies.shape)"
   ]
  },
  {
   "cell_type": "code",
   "execution_count": 15,
   "metadata": {},
   "outputs": [],
   "source": [
    "#divisao de dados atributos e classe\n",
    "X = data_w_dummies.values[:, 0:42]\n",
    "Y = data_w_dummies.values[:,42]"
   ]
  },
  {
   "cell_type": "code",
   "execution_count": 16,
   "metadata": {},
   "outputs": [],
   "source": [
    "#usando o metodo para fazer uma unica divisao dos dados\n",
    "X_train, X_test, y_train, y_test = train_test_split( X, Y, test_size = 0.25, random_state = 10)"
   ]
  },
  {
   "cell_type": "code",
   "execution_count": 17,
   "metadata": {},
   "outputs": [],
   "source": [
    "# we create an instance of Neighbours Classifier and fit the data.\n",
    "clf = neighbors.KNeighborsClassifier(7)\n",
    "clf = clf.fit(X_train, y_train)"
   ]
  },
  {
   "cell_type": "code",
   "execution_count": 18,
   "metadata": {},
   "outputs": [
    {
     "name": "stdout",
     "output_type": "stream",
     "text": [
      "Acuracia de trainamento Knn: 0.900\n",
      "Acuracia de teste Knn: 0.888\n"
     ]
    }
   ],
   "source": [
    "print(\"Acuracia de trainamento Knn: %0.3f\" %  clf.score(X_train, y_train))\n",
    "print(\"Acuracia de teste Knn: %0.3f\" %  clf.score(X_test, y_test))"
   ]
  },
  {
   "cell_type": "code",
   "execution_count": 19,
   "metadata": {},
   "outputs": [
    {
     "name": "stdout",
     "output_type": "stream",
     "text": [
      "Acuracia de trainamento arvore1: 0.956\n",
      "Acuracia de teste arvore1: 0.897\n",
      "Acuracia de trainamento arvore2: 0.984\n",
      "Acuracia de teste arvore2: 0.883\n"
     ]
    }
   ],
   "source": [
    "#criando diferentes arvores\n",
    "clf = tree.DecisionTreeClassifier(criterion='entropy',max_depth=10, random_state = 10)\n",
    "clf2 = tree.DecisionTreeClassifier(max_depth=15,random_state = 10)\n",
    "\n",
    "clf = clf.fit(X_train, y_train) #treinamento\n",
    "clf2 = clf2.fit(X_train, y_train) #treinamento\n",
    "\n",
    "print(\"Acuracia de trainamento arvore1: %0.3f\" %  clf.score(X_train, y_train))\n",
    "print(\"Acuracia de teste arvore1: %0.3f\" %  clf.score(X_test, y_test))\n",
    "print(\"Acuracia de trainamento arvore2: %0.3f\" %  clf2.score(X_train, y_train))\n",
    "print(\"Acuracia de teste arvore2: %0.3f\" %  clf2.score(X_test, y_test))"
   ]
  },
  {
   "cell_type": "code",
   "execution_count": null,
   "metadata": {},
   "outputs": [],
   "source": []
  }
 ],
 "metadata": {
  "kernelspec": {
   "display_name": "Python 3",
   "language": "python",
   "name": "python3"
  },
  "language_info": {
   "codemirror_mode": {
    "name": "ipython",
    "version": 3
   },
   "file_extension": ".py",
   "mimetype": "text/x-python",
   "name": "python",
   "nbconvert_exporter": "python",
   "pygments_lexer": "ipython3",
   "version": "3.7.6"
  }
 },
 "nbformat": 4,
 "nbformat_minor": 4
}
