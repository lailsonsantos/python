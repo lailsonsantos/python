{
 "cells": [
  {
   "cell_type": "markdown",
   "metadata": {},
   "source": [
    "# Analise exploratória do Dataframe Bank (http://archive.ics.uci.edu/ml/datasets/Bank+Marketing) \n",
    "\n",
    "1. Do que se trata?\n",
    "Base de dados com o perfil dos bons e maus pagadores de empréstimo.\n",
    "2. Qual o objetivo?\n",
    "Entender qual o perfil dos bons e maus pagadores de empréstimo.\n",
    "4. Gerar todos os gráficos com nomes das colunas.\n",
    "5. O que a análise exploratória mostra?"
   ]
  },
  {
   "cell_type": "markdown",
   "metadata": {},
   "source": [
    "## Descrição das bibliotecas\n",
    "\n",
    "- pandas: Biblioteca de manipulação de dados.\n",
    "- seaborn: Biblioteca baseada na matplotlib para visualização de dados.\n",
    "- numpy: Biblioteca usado para cálculo matemático.\n",
    "- matplotlib: Biblioteca usada para plotar gráficos 2D.\n",
    "- scipy: Biblioteca usada para calculos estatísticos."
   ]
  },
  {
   "cell_type": "code",
   "execution_count": 54,
   "metadata": {},
   "outputs": [],
   "source": [
    "# Importar bibliotecas\n",
    "import pandas as pd\n",
    "import seaborn as sns\n",
    "import numpy as np\n",
    "import matplotlib.pyplot as plt\n",
    "from scipy import stats\n",
    "from sklearn.preprocessing import Normalizer\n",
    "from sklearn.model_selection import train_test_split\n",
    "from sklearn import tree\n",
    "from sklearn.preprocessing import LabelEncoder\n",
    "from sklearn import neighbors\n",
    "from sklearn.preprocessing import MinMaxScaler\n",
    "plt.rcParams['figure.figsize'] = [16, 10]\n",
    "pd.set_option('display.max_columns', None)"
   ]
  },
  {
   "cell_type": "code",
   "execution_count": 2,
   "metadata": {},
   "outputs": [],
   "source": [
    "# Importar arquivo CSV com Pandas\n",
    "arquivo_csv = pd.read_csv(\"dados/bank.csv\", sep = \";\")"
   ]
  },
  {
   "cell_type": "code",
   "execution_count": 3,
   "metadata": {},
   "outputs": [
    {
     "data": {
      "text/html": [
       "<div>\n",
       "<style scoped>\n",
       "    .dataframe tbody tr th:only-of-type {\n",
       "        vertical-align: middle;\n",
       "    }\n",
       "\n",
       "    .dataframe tbody tr th {\n",
       "        vertical-align: top;\n",
       "    }\n",
       "\n",
       "    .dataframe thead th {\n",
       "        text-align: right;\n",
       "    }\n",
       "</style>\n",
       "<table border=\"1\" class=\"dataframe\">\n",
       "  <thead>\n",
       "    <tr style=\"text-align: right;\">\n",
       "      <th></th>\n",
       "      <th>age</th>\n",
       "      <th>job</th>\n",
       "      <th>marital</th>\n",
       "      <th>education</th>\n",
       "      <th>default</th>\n",
       "      <th>balance</th>\n",
       "      <th>housing</th>\n",
       "      <th>loan</th>\n",
       "      <th>contact</th>\n",
       "      <th>day</th>\n",
       "      <th>month</th>\n",
       "      <th>duration</th>\n",
       "      <th>campaign</th>\n",
       "      <th>pdays</th>\n",
       "      <th>previous</th>\n",
       "      <th>poutcome</th>\n",
       "      <th>y</th>\n",
       "    </tr>\n",
       "  </thead>\n",
       "  <tbody>\n",
       "    <tr>\n",
       "      <th>0</th>\n",
       "      <td>30</td>\n",
       "      <td>unemployed</td>\n",
       "      <td>married</td>\n",
       "      <td>primary</td>\n",
       "      <td>no</td>\n",
       "      <td>1787</td>\n",
       "      <td>no</td>\n",
       "      <td>no</td>\n",
       "      <td>cellular</td>\n",
       "      <td>19</td>\n",
       "      <td>oct</td>\n",
       "      <td>79</td>\n",
       "      <td>1</td>\n",
       "      <td>-1</td>\n",
       "      <td>0</td>\n",
       "      <td>unknown</td>\n",
       "      <td>no</td>\n",
       "    </tr>\n",
       "    <tr>\n",
       "      <th>1</th>\n",
       "      <td>33</td>\n",
       "      <td>services</td>\n",
       "      <td>married</td>\n",
       "      <td>secondary</td>\n",
       "      <td>no</td>\n",
       "      <td>4789</td>\n",
       "      <td>yes</td>\n",
       "      <td>yes</td>\n",
       "      <td>cellular</td>\n",
       "      <td>11</td>\n",
       "      <td>may</td>\n",
       "      <td>220</td>\n",
       "      <td>1</td>\n",
       "      <td>339</td>\n",
       "      <td>4</td>\n",
       "      <td>failure</td>\n",
       "      <td>no</td>\n",
       "    </tr>\n",
       "    <tr>\n",
       "      <th>2</th>\n",
       "      <td>35</td>\n",
       "      <td>management</td>\n",
       "      <td>single</td>\n",
       "      <td>tertiary</td>\n",
       "      <td>no</td>\n",
       "      <td>1350</td>\n",
       "      <td>yes</td>\n",
       "      <td>no</td>\n",
       "      <td>cellular</td>\n",
       "      <td>16</td>\n",
       "      <td>apr</td>\n",
       "      <td>185</td>\n",
       "      <td>1</td>\n",
       "      <td>330</td>\n",
       "      <td>1</td>\n",
       "      <td>failure</td>\n",
       "      <td>no</td>\n",
       "    </tr>\n",
       "    <tr>\n",
       "      <th>3</th>\n",
       "      <td>30</td>\n",
       "      <td>management</td>\n",
       "      <td>married</td>\n",
       "      <td>tertiary</td>\n",
       "      <td>no</td>\n",
       "      <td>1476</td>\n",
       "      <td>yes</td>\n",
       "      <td>yes</td>\n",
       "      <td>unknown</td>\n",
       "      <td>3</td>\n",
       "      <td>jun</td>\n",
       "      <td>199</td>\n",
       "      <td>4</td>\n",
       "      <td>-1</td>\n",
       "      <td>0</td>\n",
       "      <td>unknown</td>\n",
       "      <td>no</td>\n",
       "    </tr>\n",
       "    <tr>\n",
       "      <th>4</th>\n",
       "      <td>59</td>\n",
       "      <td>blue-collar</td>\n",
       "      <td>married</td>\n",
       "      <td>secondary</td>\n",
       "      <td>no</td>\n",
       "      <td>0</td>\n",
       "      <td>yes</td>\n",
       "      <td>no</td>\n",
       "      <td>unknown</td>\n",
       "      <td>5</td>\n",
       "      <td>may</td>\n",
       "      <td>226</td>\n",
       "      <td>1</td>\n",
       "      <td>-1</td>\n",
       "      <td>0</td>\n",
       "      <td>unknown</td>\n",
       "      <td>no</td>\n",
       "    </tr>\n",
       "  </tbody>\n",
       "</table>\n",
       "</div>"
      ],
      "text/plain": [
       "   age          job  marital  education default  balance housing loan  \\\n",
       "0   30   unemployed  married    primary      no     1787      no   no   \n",
       "1   33     services  married  secondary      no     4789     yes  yes   \n",
       "2   35   management   single   tertiary      no     1350     yes   no   \n",
       "3   30   management  married   tertiary      no     1476     yes  yes   \n",
       "4   59  blue-collar  married  secondary      no        0     yes   no   \n",
       "\n",
       "    contact  day month  duration  campaign  pdays  previous poutcome   y  \n",
       "0  cellular   19   oct        79         1     -1         0  unknown  no  \n",
       "1  cellular   11   may       220         1    339         4  failure  no  \n",
       "2  cellular   16   apr       185         1    330         1  failure  no  \n",
       "3   unknown    3   jun       199         4     -1         0  unknown  no  \n",
       "4   unknown    5   may       226         1     -1         0  unknown  no  "
      ]
     },
     "execution_count": 3,
     "metadata": {},
     "output_type": "execute_result"
    }
   ],
   "source": [
    "# Primeiros 5 registros do dataframe\n",
    "arquivo_csv.head()"
   ]
  },
  {
   "cell_type": "code",
   "execution_count": 4,
   "metadata": {},
   "outputs": [
    {
     "data": {
      "text/plain": [
       "(4521, 17)"
      ]
     },
     "execution_count": 4,
     "metadata": {},
     "output_type": "execute_result"
    }
   ],
   "source": [
    "# Quantidade de linhas e colunas do Dataframe - np é da bilbioteca numpy\n",
    "np.shape(arquivo_csv)"
   ]
  },
  {
   "cell_type": "code",
   "execution_count": 5,
   "metadata": {},
   "outputs": [],
   "source": [
    "# Remover colunas\n",
    "arquivo_csv = arquivo_csv.drop(columns=['job'])\n",
    "arquivo_csv = arquivo_csv.drop(columns=['default'])\n",
    "arquivo_csv = arquivo_csv.drop(columns=['contact'])\n",
    "arquivo_csv = arquivo_csv.drop(columns=['day'])\n",
    "arquivo_csv = arquivo_csv.drop(columns=['month'])\n",
    "arquivo_csv = arquivo_csv.drop(columns=['campaign'])\n",
    "arquivo_csv = arquivo_csv.drop(columns=['poutcome'])"
   ]
  },
  {
   "cell_type": "code",
   "execution_count": 6,
   "metadata": {},
   "outputs": [
    {
     "data": {
      "text/html": [
       "<div>\n",
       "<style scoped>\n",
       "    .dataframe tbody tr th:only-of-type {\n",
       "        vertical-align: middle;\n",
       "    }\n",
       "\n",
       "    .dataframe tbody tr th {\n",
       "        vertical-align: top;\n",
       "    }\n",
       "\n",
       "    .dataframe thead th {\n",
       "        text-align: right;\n",
       "    }\n",
       "</style>\n",
       "<table border=\"1\" class=\"dataframe\">\n",
       "  <thead>\n",
       "    <tr style=\"text-align: right;\">\n",
       "      <th></th>\n",
       "      <th>age</th>\n",
       "      <th>marital</th>\n",
       "      <th>education</th>\n",
       "      <th>balance</th>\n",
       "      <th>housing</th>\n",
       "      <th>loan</th>\n",
       "      <th>duration</th>\n",
       "      <th>pdays</th>\n",
       "      <th>previous</th>\n",
       "      <th>y</th>\n",
       "    </tr>\n",
       "  </thead>\n",
       "  <tbody>\n",
       "    <tr>\n",
       "      <th>0</th>\n",
       "      <td>30</td>\n",
       "      <td>married</td>\n",
       "      <td>primary</td>\n",
       "      <td>1787</td>\n",
       "      <td>no</td>\n",
       "      <td>no</td>\n",
       "      <td>79</td>\n",
       "      <td>-1</td>\n",
       "      <td>0</td>\n",
       "      <td>no</td>\n",
       "    </tr>\n",
       "    <tr>\n",
       "      <th>1</th>\n",
       "      <td>33</td>\n",
       "      <td>married</td>\n",
       "      <td>secondary</td>\n",
       "      <td>4789</td>\n",
       "      <td>yes</td>\n",
       "      <td>yes</td>\n",
       "      <td>220</td>\n",
       "      <td>339</td>\n",
       "      <td>4</td>\n",
       "      <td>no</td>\n",
       "    </tr>\n",
       "    <tr>\n",
       "      <th>2</th>\n",
       "      <td>35</td>\n",
       "      <td>single</td>\n",
       "      <td>tertiary</td>\n",
       "      <td>1350</td>\n",
       "      <td>yes</td>\n",
       "      <td>no</td>\n",
       "      <td>185</td>\n",
       "      <td>330</td>\n",
       "      <td>1</td>\n",
       "      <td>no</td>\n",
       "    </tr>\n",
       "    <tr>\n",
       "      <th>3</th>\n",
       "      <td>30</td>\n",
       "      <td>married</td>\n",
       "      <td>tertiary</td>\n",
       "      <td>1476</td>\n",
       "      <td>yes</td>\n",
       "      <td>yes</td>\n",
       "      <td>199</td>\n",
       "      <td>-1</td>\n",
       "      <td>0</td>\n",
       "      <td>no</td>\n",
       "    </tr>\n",
       "    <tr>\n",
       "      <th>4</th>\n",
       "      <td>59</td>\n",
       "      <td>married</td>\n",
       "      <td>secondary</td>\n",
       "      <td>0</td>\n",
       "      <td>yes</td>\n",
       "      <td>no</td>\n",
       "      <td>226</td>\n",
       "      <td>-1</td>\n",
       "      <td>0</td>\n",
       "      <td>no</td>\n",
       "    </tr>\n",
       "  </tbody>\n",
       "</table>\n",
       "</div>"
      ],
      "text/plain": [
       "   age  marital  education  balance housing loan  duration  pdays  previous  \\\n",
       "0   30  married    primary     1787      no   no        79     -1         0   \n",
       "1   33  married  secondary     4789     yes  yes       220    339         4   \n",
       "2   35   single   tertiary     1350     yes   no       185    330         1   \n",
       "3   30  married   tertiary     1476     yes  yes       199     -1         0   \n",
       "4   59  married  secondary        0     yes   no       226     -1         0   \n",
       "\n",
       "    y  \n",
       "0  no  \n",
       "1  no  \n",
       "2  no  \n",
       "3  no  \n",
       "4  no  "
      ]
     },
     "execution_count": 6,
     "metadata": {},
     "output_type": "execute_result"
    }
   ],
   "source": [
    "# Primeiros 5 registros do dataframe\n",
    "arquivo_csv.head()"
   ]
  },
  {
   "cell_type": "code",
   "execution_count": 7,
   "metadata": {},
   "outputs": [
    {
     "name": "stdout",
     "output_type": "stream",
     "text": [
      "age          0\n",
      "marital      0\n",
      "education    0\n",
      "balance      0\n",
      "housing      0\n",
      "loan         0\n",
      "duration     0\n",
      "pdays        0\n",
      "previous     0\n",
      "y            0\n",
      "dtype: int64\n"
     ]
    }
   ],
   "source": [
    "# Realiza a contagem de valores NaN em cada coluna\n",
    "print(arquivo_csv.isnull().sum())"
   ]
  },
  {
   "cell_type": "code",
   "execution_count": 8,
   "metadata": {},
   "outputs": [
    {
     "data": {
      "text/html": [
       "<div>\n",
       "<style scoped>\n",
       "    .dataframe tbody tr th:only-of-type {\n",
       "        vertical-align: middle;\n",
       "    }\n",
       "\n",
       "    .dataframe tbody tr th {\n",
       "        vertical-align: top;\n",
       "    }\n",
       "\n",
       "    .dataframe thead th {\n",
       "        text-align: right;\n",
       "    }\n",
       "</style>\n",
       "<table border=\"1\" class=\"dataframe\">\n",
       "  <thead>\n",
       "    <tr style=\"text-align: right;\">\n",
       "      <th></th>\n",
       "      <th>age</th>\n",
       "      <th>balance</th>\n",
       "      <th>duration</th>\n",
       "      <th>pdays</th>\n",
       "      <th>previous</th>\n",
       "    </tr>\n",
       "  </thead>\n",
       "  <tbody>\n",
       "    <tr>\n",
       "      <th>count</th>\n",
       "      <td>4521.000000</td>\n",
       "      <td>4521.000000</td>\n",
       "      <td>4521.000000</td>\n",
       "      <td>4521.000000</td>\n",
       "      <td>4521.000000</td>\n",
       "    </tr>\n",
       "    <tr>\n",
       "      <th>mean</th>\n",
       "      <td>41.170095</td>\n",
       "      <td>1422.657819</td>\n",
       "      <td>263.961292</td>\n",
       "      <td>39.766645</td>\n",
       "      <td>0.542579</td>\n",
       "    </tr>\n",
       "    <tr>\n",
       "      <th>std</th>\n",
       "      <td>10.576211</td>\n",
       "      <td>3009.638142</td>\n",
       "      <td>259.856633</td>\n",
       "      <td>100.121124</td>\n",
       "      <td>1.693562</td>\n",
       "    </tr>\n",
       "    <tr>\n",
       "      <th>min</th>\n",
       "      <td>19.000000</td>\n",
       "      <td>-3313.000000</td>\n",
       "      <td>4.000000</td>\n",
       "      <td>-1.000000</td>\n",
       "      <td>0.000000</td>\n",
       "    </tr>\n",
       "    <tr>\n",
       "      <th>25%</th>\n",
       "      <td>33.000000</td>\n",
       "      <td>69.000000</td>\n",
       "      <td>104.000000</td>\n",
       "      <td>-1.000000</td>\n",
       "      <td>0.000000</td>\n",
       "    </tr>\n",
       "    <tr>\n",
       "      <th>50%</th>\n",
       "      <td>39.000000</td>\n",
       "      <td>444.000000</td>\n",
       "      <td>185.000000</td>\n",
       "      <td>-1.000000</td>\n",
       "      <td>0.000000</td>\n",
       "    </tr>\n",
       "    <tr>\n",
       "      <th>75%</th>\n",
       "      <td>49.000000</td>\n",
       "      <td>1480.000000</td>\n",
       "      <td>329.000000</td>\n",
       "      <td>-1.000000</td>\n",
       "      <td>0.000000</td>\n",
       "    </tr>\n",
       "    <tr>\n",
       "      <th>max</th>\n",
       "      <td>87.000000</td>\n",
       "      <td>71188.000000</td>\n",
       "      <td>3025.000000</td>\n",
       "      <td>871.000000</td>\n",
       "      <td>25.000000</td>\n",
       "    </tr>\n",
       "  </tbody>\n",
       "</table>\n",
       "</div>"
      ],
      "text/plain": [
       "               age       balance     duration        pdays     previous\n",
       "count  4521.000000   4521.000000  4521.000000  4521.000000  4521.000000\n",
       "mean     41.170095   1422.657819   263.961292    39.766645     0.542579\n",
       "std      10.576211   3009.638142   259.856633   100.121124     1.693562\n",
       "min      19.000000  -3313.000000     4.000000    -1.000000     0.000000\n",
       "25%      33.000000     69.000000   104.000000    -1.000000     0.000000\n",
       "50%      39.000000    444.000000   185.000000    -1.000000     0.000000\n",
       "75%      49.000000   1480.000000   329.000000    -1.000000     0.000000\n",
       "max      87.000000  71188.000000  3025.000000   871.000000    25.000000"
      ]
     },
     "execution_count": 8,
     "metadata": {},
     "output_type": "execute_result"
    }
   ],
   "source": [
    "# Descrição detalhada das informações do Dataframe\n",
    "# a função 'describe()' desconsidera os valores NaN (nulos)\n",
    "arquivo_csv.describe()"
   ]
  },
  {
   "cell_type": "code",
   "execution_count": 9,
   "metadata": {},
   "outputs": [
    {
     "data": {
      "text/plain": [
       "married     2797\n",
       "single      1196\n",
       "divorced     528\n",
       "Name: marital, dtype: int64"
      ]
     },
     "execution_count": 9,
     "metadata": {},
     "output_type": "execute_result"
    }
   ],
   "source": [
    "# Mostra quantidade de valores diferentes\n",
    "arquivo_csv['marital'].value_counts()"
   ]
  },
  {
   "cell_type": "code",
   "execution_count": 10,
   "metadata": {},
   "outputs": [
    {
     "data": {
      "text/plain": [
       "secondary    2306\n",
       "tertiary     1350\n",
       "primary       678\n",
       "unknown       187\n",
       "Name: education, dtype: int64"
      ]
     },
     "execution_count": 10,
     "metadata": {},
     "output_type": "execute_result"
    }
   ],
   "source": [
    "arquivo_csv['education'].value_counts()"
   ]
  },
  {
   "cell_type": "code",
   "execution_count": 11,
   "metadata": {},
   "outputs": [
    {
     "data": {
      "text/plain": [
       "yes    2559\n",
       "no     1962\n",
       "Name: housing, dtype: int64"
      ]
     },
     "execution_count": 11,
     "metadata": {},
     "output_type": "execute_result"
    }
   ],
   "source": [
    "arquivo_csv['housing'].value_counts()"
   ]
  },
  {
   "cell_type": "code",
   "execution_count": 12,
   "metadata": {},
   "outputs": [
    {
     "data": {
      "text/plain": [
       "no     3830\n",
       "yes     691\n",
       "Name: loan, dtype: int64"
      ]
     },
     "execution_count": 12,
     "metadata": {},
     "output_type": "execute_result"
    }
   ],
   "source": [
    "arquivo_csv['loan'].value_counts()"
   ]
  },
  {
   "cell_type": "code",
   "execution_count": 13,
   "metadata": {},
   "outputs": [
    {
     "data": {
      "text/plain": [
       "no     4000\n",
       "yes     521\n",
       "Name: y, dtype: int64"
      ]
     },
     "execution_count": 13,
     "metadata": {},
     "output_type": "execute_result"
    }
   ],
   "source": [
    "arquivo_csv['y'].value_counts()"
   ]
  },
  {
   "cell_type": "code",
   "execution_count": 14,
   "metadata": {},
   "outputs": [],
   "source": [
    "conjugue = {'divorced': 0, 'single': 1, 'married': 2}\n",
    "arquivo_csv['conjugue'] = arquivo_csv['marital'].map(conjugue)\n",
    "\n",
    "educacao = {'unknown': 0, 'primary': 1, 'secondary': 2, 'tertiary': 3}\n",
    "arquivo_csv['educacao'] = arquivo_csv['education'].map(educacao)\n",
    "\n",
    "habitacao = {'no': 0, 'yes': 1}\n",
    "arquivo_csv['habitacao'] = arquivo_csv['housing'].map(habitacao)\n",
    "\n",
    "emprestimo = {'no': 0, 'yes': 1}\n",
    "arquivo_csv['emprestimo'] = arquivo_csv['loan'].map(emprestimo)\n",
    "\n",
    "resultado = {'no': 0, 'yes': 1}\n",
    "arquivo_csv['resultado'] = arquivo_csv['y'].map(resultado)"
   ]
  },
  {
   "cell_type": "code",
   "execution_count": 15,
   "metadata": {},
   "outputs": [
    {
     "data": {
      "text/html": [
       "<div>\n",
       "<style scoped>\n",
       "    .dataframe tbody tr th:only-of-type {\n",
       "        vertical-align: middle;\n",
       "    }\n",
       "\n",
       "    .dataframe tbody tr th {\n",
       "        vertical-align: top;\n",
       "    }\n",
       "\n",
       "    .dataframe thead th {\n",
       "        text-align: right;\n",
       "    }\n",
       "</style>\n",
       "<table border=\"1\" class=\"dataframe\">\n",
       "  <thead>\n",
       "    <tr style=\"text-align: right;\">\n",
       "      <th></th>\n",
       "      <th>age</th>\n",
       "      <th>marital</th>\n",
       "      <th>conjugue</th>\n",
       "      <th>education</th>\n",
       "      <th>educacao</th>\n",
       "      <th>housing</th>\n",
       "      <th>habitacao</th>\n",
       "      <th>loan</th>\n",
       "      <th>emprestimo</th>\n",
       "      <th>balance</th>\n",
       "      <th>duration</th>\n",
       "      <th>pdays</th>\n",
       "      <th>previous</th>\n",
       "      <th>y</th>\n",
       "      <th>resultado</th>\n",
       "    </tr>\n",
       "  </thead>\n",
       "  <tbody>\n",
       "    <tr>\n",
       "      <th>0</th>\n",
       "      <td>30</td>\n",
       "      <td>married</td>\n",
       "      <td>2</td>\n",
       "      <td>primary</td>\n",
       "      <td>1</td>\n",
       "      <td>no</td>\n",
       "      <td>0</td>\n",
       "      <td>no</td>\n",
       "      <td>0</td>\n",
       "      <td>1787</td>\n",
       "      <td>79</td>\n",
       "      <td>-1</td>\n",
       "      <td>0</td>\n",
       "      <td>no</td>\n",
       "      <td>0</td>\n",
       "    </tr>\n",
       "    <tr>\n",
       "      <th>1</th>\n",
       "      <td>33</td>\n",
       "      <td>married</td>\n",
       "      <td>2</td>\n",
       "      <td>secondary</td>\n",
       "      <td>2</td>\n",
       "      <td>yes</td>\n",
       "      <td>1</td>\n",
       "      <td>yes</td>\n",
       "      <td>1</td>\n",
       "      <td>4789</td>\n",
       "      <td>220</td>\n",
       "      <td>339</td>\n",
       "      <td>4</td>\n",
       "      <td>no</td>\n",
       "      <td>0</td>\n",
       "    </tr>\n",
       "    <tr>\n",
       "      <th>2</th>\n",
       "      <td>35</td>\n",
       "      <td>single</td>\n",
       "      <td>1</td>\n",
       "      <td>tertiary</td>\n",
       "      <td>3</td>\n",
       "      <td>yes</td>\n",
       "      <td>1</td>\n",
       "      <td>no</td>\n",
       "      <td>0</td>\n",
       "      <td>1350</td>\n",
       "      <td>185</td>\n",
       "      <td>330</td>\n",
       "      <td>1</td>\n",
       "      <td>no</td>\n",
       "      <td>0</td>\n",
       "    </tr>\n",
       "    <tr>\n",
       "      <th>3</th>\n",
       "      <td>30</td>\n",
       "      <td>married</td>\n",
       "      <td>2</td>\n",
       "      <td>tertiary</td>\n",
       "      <td>3</td>\n",
       "      <td>yes</td>\n",
       "      <td>1</td>\n",
       "      <td>yes</td>\n",
       "      <td>1</td>\n",
       "      <td>1476</td>\n",
       "      <td>199</td>\n",
       "      <td>-1</td>\n",
       "      <td>0</td>\n",
       "      <td>no</td>\n",
       "      <td>0</td>\n",
       "    </tr>\n",
       "    <tr>\n",
       "      <th>4</th>\n",
       "      <td>59</td>\n",
       "      <td>married</td>\n",
       "      <td>2</td>\n",
       "      <td>secondary</td>\n",
       "      <td>2</td>\n",
       "      <td>yes</td>\n",
       "      <td>1</td>\n",
       "      <td>no</td>\n",
       "      <td>0</td>\n",
       "      <td>0</td>\n",
       "      <td>226</td>\n",
       "      <td>-1</td>\n",
       "      <td>0</td>\n",
       "      <td>no</td>\n",
       "      <td>0</td>\n",
       "    </tr>\n",
       "  </tbody>\n",
       "</table>\n",
       "</div>"
      ],
      "text/plain": [
       "   age  marital  conjugue  education  educacao housing  habitacao loan  \\\n",
       "0   30  married         2    primary         1      no          0   no   \n",
       "1   33  married         2  secondary         2     yes          1  yes   \n",
       "2   35   single         1   tertiary         3     yes          1   no   \n",
       "3   30  married         2   tertiary         3     yes          1  yes   \n",
       "4   59  married         2  secondary         2     yes          1   no   \n",
       "\n",
       "   emprestimo  balance  duration  pdays  previous   y  resultado  \n",
       "0           0     1787        79     -1         0  no          0  \n",
       "1           1     4789       220    339         4  no          0  \n",
       "2           0     1350       185    330         1  no          0  \n",
       "3           1     1476       199     -1         0  no          0  \n",
       "4           0        0       226     -1         0  no          0  "
      ]
     },
     "execution_count": 15,
     "metadata": {},
     "output_type": "execute_result"
    }
   ],
   "source": [
    "# Organiza as colunas\n",
    "columnsTitles = ['age', 'marital', 'conjugue', 'education', 'educacao', 'housing', 'habitacao', 'loan', 'emprestimo', 'balance', 'duration', 'pdays', 'previous', 'y', 'resultado']\n",
    "arquivo_csv = arquivo_csv.reindex(columns = columnsTitles)\n",
    "\n",
    "# Primeiros 5 registros do dataframe\n",
    "arquivo_csv.head()"
   ]
  },
  {
   "cell_type": "code",
   "execution_count": 16,
   "metadata": {},
   "outputs": [
    {
     "data": {
      "text/html": [
       "<div>\n",
       "<style scoped>\n",
       "    .dataframe tbody tr th:only-of-type {\n",
       "        vertical-align: middle;\n",
       "    }\n",
       "\n",
       "    .dataframe tbody tr th {\n",
       "        vertical-align: top;\n",
       "    }\n",
       "\n",
       "    .dataframe thead th {\n",
       "        text-align: right;\n",
       "    }\n",
       "</style>\n",
       "<table border=\"1\" class=\"dataframe\">\n",
       "  <thead>\n",
       "    <tr style=\"text-align: right;\">\n",
       "      <th></th>\n",
       "      <th>age</th>\n",
       "      <th>conjugue</th>\n",
       "      <th>educacao</th>\n",
       "      <th>habitacao</th>\n",
       "      <th>emprestimo</th>\n",
       "      <th>balance</th>\n",
       "      <th>duration</th>\n",
       "      <th>pdays</th>\n",
       "      <th>previous</th>\n",
       "      <th>resultado</th>\n",
       "    </tr>\n",
       "  </thead>\n",
       "  <tbody>\n",
       "    <tr>\n",
       "      <th>0</th>\n",
       "      <td>30</td>\n",
       "      <td>2</td>\n",
       "      <td>1</td>\n",
       "      <td>0</td>\n",
       "      <td>0</td>\n",
       "      <td>1787</td>\n",
       "      <td>79</td>\n",
       "      <td>-1</td>\n",
       "      <td>0</td>\n",
       "      <td>0</td>\n",
       "    </tr>\n",
       "    <tr>\n",
       "      <th>1</th>\n",
       "      <td>33</td>\n",
       "      <td>2</td>\n",
       "      <td>2</td>\n",
       "      <td>1</td>\n",
       "      <td>1</td>\n",
       "      <td>4789</td>\n",
       "      <td>220</td>\n",
       "      <td>339</td>\n",
       "      <td>4</td>\n",
       "      <td>0</td>\n",
       "    </tr>\n",
       "    <tr>\n",
       "      <th>2</th>\n",
       "      <td>35</td>\n",
       "      <td>1</td>\n",
       "      <td>3</td>\n",
       "      <td>1</td>\n",
       "      <td>0</td>\n",
       "      <td>1350</td>\n",
       "      <td>185</td>\n",
       "      <td>330</td>\n",
       "      <td>1</td>\n",
       "      <td>0</td>\n",
       "    </tr>\n",
       "    <tr>\n",
       "      <th>3</th>\n",
       "      <td>30</td>\n",
       "      <td>2</td>\n",
       "      <td>3</td>\n",
       "      <td>1</td>\n",
       "      <td>1</td>\n",
       "      <td>1476</td>\n",
       "      <td>199</td>\n",
       "      <td>-1</td>\n",
       "      <td>0</td>\n",
       "      <td>0</td>\n",
       "    </tr>\n",
       "    <tr>\n",
       "      <th>4</th>\n",
       "      <td>59</td>\n",
       "      <td>2</td>\n",
       "      <td>2</td>\n",
       "      <td>1</td>\n",
       "      <td>0</td>\n",
       "      <td>0</td>\n",
       "      <td>226</td>\n",
       "      <td>-1</td>\n",
       "      <td>0</td>\n",
       "      <td>0</td>\n",
       "    </tr>\n",
       "  </tbody>\n",
       "</table>\n",
       "</div>"
      ],
      "text/plain": [
       "   age  conjugue  educacao  habitacao  emprestimo  balance  duration  pdays  \\\n",
       "0   30         2         1          0           0     1787        79     -1   \n",
       "1   33         2         2          1           1     4789       220    339   \n",
       "2   35         1         3          1           0     1350       185    330   \n",
       "3   30         2         3          1           1     1476       199     -1   \n",
       "4   59         2         2          1           0        0       226     -1   \n",
       "\n",
       "   previous  resultado  \n",
       "0         0          0  \n",
       "1         4          0  \n",
       "2         1          0  \n",
       "3         0          0  \n",
       "4         0          0  "
      ]
     },
     "execution_count": 16,
     "metadata": {},
     "output_type": "execute_result"
    }
   ],
   "source": [
    "# Remover colunas\n",
    "arquivo_csv = arquivo_csv.drop(columns=['marital', 'education', 'housing', 'loan', 'y'])\n",
    "\n",
    "arquivo_csv.head()"
   ]
  },
  {
   "cell_type": "code",
   "execution_count": 17,
   "metadata": {},
   "outputs": [],
   "source": [
    "# Exclui coluna\n",
    "#df = arquivo_csv.drop(columns=['resultado'])"
   ]
  },
  {
   "cell_type": "code",
   "execution_count": 20,
   "metadata": {},
   "outputs": [
    {
     "data": {
      "text/plain": [
       "array([[ 30,   2,   1, ...,  79,  -1,   0],\n",
       "       [ 33,   2,   2, ..., 220, 339,   4],\n",
       "       [ 35,   1,   3, ..., 185, 330,   1],\n",
       "       ...,\n",
       "       [ 57,   2,   2, ..., 151,  -1,   0],\n",
       "       [ 28,   2,   2, ..., 129, 211,   3],\n",
       "       [ 44,   1,   3, ..., 345, 249,   7]], dtype=int64)"
      ]
     },
     "execution_count": 20,
     "metadata": {},
     "output_type": "execute_result"
    }
   ],
   "source": [
    "arquivo_csv.values[:, 0:9]"
   ]
  },
  {
   "cell_type": "code",
   "execution_count": 21,
   "metadata": {},
   "outputs": [
    {
     "data": {
      "text/plain": [
       "<matplotlib.axes._subplots.AxesSubplot at 0x2603e353148>"
      ]
     },
     "execution_count": 21,
     "metadata": {},
     "output_type": "execute_result"
    },
    {
     "data": {
      "image/png": "[encoded data removed]",
      "text/plain": [
       "<Figure size 432x288 with 1 Axes>"
      ]
     },
     "metadata": {
      "needs_background": "light"
     },
     "output_type": "display_data"
    }
   ],
   "source": [
    "sns.distplot(arquivo_csv)\n",
    "# plt.hist(arquivo_csv['balance'])"
   ]
  },
  {
   "cell_type": "code",
   "execution_count": 22,
   "metadata": {},
   "outputs": [
    {
     "data": {
      "text/plain": [
       "<matplotlib.axes._subplots.AxesSubplot at 0x2603edc1b48>"
      ]
     },
     "execution_count": 22,
     "metadata": {},
     "output_type": "execute_result"
    },
    {
     "data": {
      "image/png": "[encoded data removed]",
      "text/plain": [
       "<Figure size 432x288 with 1 Axes>"
      ]
     },
     "metadata": {
      "needs_background": "light"
     },
     "output_type": "display_data"
    }
   ],
   "source": [
    "# boxplot\n",
    "sns.boxplot(data = arquivo_csv)"
   ]
  },
  {
   "cell_type": "code",
   "execution_count": 23,
   "metadata": {},
   "outputs": [],
   "source": [
    "arquivo_csv = arquivo_csv.loc[(arquivo_csv['balance'] <= 40000)]\n",
    "#arquivo_csv = arquivo_csv.loc[(arquivo_csv['balance'] <= 40000)]"
   ]
  },
  {
   "cell_type": "code",
   "execution_count": 24,
   "metadata": {},
   "outputs": [],
   "source": [
    "#normaliza os dados\n",
    "scaler = Normalizer().fit(arquivo_csv)\n",
    "normalizedX = scaler.transform(arquivo_csv)"
   ]
  },
  {
   "cell_type": "code",
   "execution_count": 25,
   "metadata": {},
   "outputs": [
    {
     "name": "stdout",
     "output_type": "stream",
     "text": [
      "Resumo dos dados modificados\n",
      "[[ 0.01677  0.00112  0.00056 ... -0.00056  0.       0.     ]\n",
      " [ 0.00687  0.00042  0.00042 ...  0.07053  0.00083  0.     ]\n",
      " [ 0.02496  0.00071  0.00214 ...  0.2353   0.00071  0.     ]\n",
      " ...\n",
      " [ 0.1695   0.00595  0.00595 ... -0.00297  0.       0.     ]\n",
      " [ 0.02406  0.00172  0.00172 ...  0.18128  0.00258  0.     ]\n",
      " [ 0.03625  0.00082  0.00247 ...  0.20513  0.00577  0.     ]]\n"
     ]
    }
   ],
   "source": [
    "print(\"Resumo dos dados modificados\")\n",
    "np.set_printoptions(precision=5)\n",
    "print(normalizedX)"
   ]
  },
  {
   "cell_type": "code",
   "execution_count": 26,
   "metadata": {},
   "outputs": [
    {
     "data": {
      "text/plain": [
       "<matplotlib.axes._subplots.AxesSubplot at 0x2603eec2848>"
      ]
     },
     "execution_count": 26,
     "metadata": {},
     "output_type": "execute_result"
    },
    {
     "data": {
      "image/png": "[encoded data removed]",
      "text/plain": [
       "<Figure size 432x288 with 1 Axes>"
      ]
     },
     "metadata": {
      "needs_background": "light"
     },
     "output_type": "display_data"
    }
   ],
   "source": [
    "# gráfico de dispersão\n",
    "#sns.catplot(data = df)\n",
    "#sns.boxplot(normalizedX)\n",
    "sns.boxplot(data = arquivo_csv)"
   ]
  },
  {
   "cell_type": "markdown",
   "metadata": {},
   "source": [
    "### Correlação - medida se associação entre duas ou mais variáveis\n",
    "- 0,9 a 1 positivo ou negativo indica uma correlação muito forte.\n",
    "- 0,7 a 0,9 positivo ou negativo indica uma correlação forte.\n",
    "- 0,5 a 0,7 positivo ou negativo indica uma correlação moderada.\n",
    "- 0,3 a 0,5 positivo ou negativo indica uma correlação fraca.\n",
    "- 0 a 0,3 positivo ou negativo indica uma correlação desprezível."
   ]
  },
  {
   "cell_type": "code",
   "execution_count": 28,
   "metadata": {},
   "outputs": [
    {
     "data": {
      "text/html": [
       "<div>\n",
       "<style scoped>\n",
       "    .dataframe tbody tr th:only-of-type {\n",
       "        vertical-align: middle;\n",
       "    }\n",
       "\n",
       "    .dataframe tbody tr th {\n",
       "        vertical-align: top;\n",
       "    }\n",
       "\n",
       "    .dataframe thead th {\n",
       "        text-align: right;\n",
       "    }\n",
       "</style>\n",
       "<table border=\"1\" class=\"dataframe\">\n",
       "  <thead>\n",
       "    <tr style=\"text-align: right;\">\n",
       "      <th></th>\n",
       "      <th>age</th>\n",
       "      <th>conjugue</th>\n",
       "      <th>educacao</th>\n",
       "      <th>habitacao</th>\n",
       "      <th>emprestimo</th>\n",
       "      <th>balance</th>\n",
       "      <th>duration</th>\n",
       "      <th>pdays</th>\n",
       "      <th>previous</th>\n",
       "      <th>resultado</th>\n",
       "    </tr>\n",
       "  </thead>\n",
       "  <tbody>\n",
       "    <tr>\n",
       "      <th>age</th>\n",
       "      <td>1.000000</td>\n",
       "      <td>0.123566</td>\n",
       "      <td>-0.198970</td>\n",
       "      <td>-0.193542</td>\n",
       "      <td>-0.011079</td>\n",
       "      <td>0.081226</td>\n",
       "      <td>-0.002274</td>\n",
       "      <td>-0.008729</td>\n",
       "      <td>-0.003380</td>\n",
       "      <td>0.045257</td>\n",
       "    </tr>\n",
       "    <tr>\n",
       "      <th>conjugue</th>\n",
       "      <td>0.123566</td>\n",
       "      <td>1.000000</td>\n",
       "      <td>-0.085789</td>\n",
       "      <td>0.027770</td>\n",
       "      <td>0.014458</td>\n",
       "      <td>0.025008</td>\n",
       "      <td>-0.035253</td>\n",
       "      <td>-0.009848</td>\n",
       "      <td>-0.001986</td>\n",
       "      <td>-0.061136</td>\n",
       "    </tr>\n",
       "    <tr>\n",
       "      <th>educacao</th>\n",
       "      <td>-0.198970</td>\n",
       "      <td>-0.085789</td>\n",
       "      <td>1.000000</td>\n",
       "      <td>-0.031314</td>\n",
       "      <td>0.016092</td>\n",
       "      <td>0.042724</td>\n",
       "      <td>-0.003256</td>\n",
       "      <td>0.006874</td>\n",
       "      <td>0.027318</td>\n",
       "      <td>0.050271</td>\n",
       "    </tr>\n",
       "    <tr>\n",
       "      <th>habitacao</th>\n",
       "      <td>-0.193542</td>\n",
       "      <td>0.027770</td>\n",
       "      <td>-0.031314</td>\n",
       "      <td>1.000000</td>\n",
       "      <td>0.018242</td>\n",
       "      <td>-0.044680</td>\n",
       "      <td>0.015630</td>\n",
       "      <td>0.116725</td>\n",
       "      <td>0.038471</td>\n",
       "      <td>-0.104899</td>\n",
       "    </tr>\n",
       "    <tr>\n",
       "      <th>emprestimo</th>\n",
       "      <td>-0.011079</td>\n",
       "      <td>0.014458</td>\n",
       "      <td>0.016092</td>\n",
       "      <td>0.018242</td>\n",
       "      <td>1.000000</td>\n",
       "      <td>-0.074057</td>\n",
       "      <td>-0.005040</td>\n",
       "      <td>-0.031165</td>\n",
       "      <td>-0.022176</td>\n",
       "      <td>-0.070590</td>\n",
       "    </tr>\n",
       "    <tr>\n",
       "      <th>balance</th>\n",
       "      <td>0.081226</td>\n",
       "      <td>0.025008</td>\n",
       "      <td>0.042724</td>\n",
       "      <td>-0.044680</td>\n",
       "      <td>-0.074057</td>\n",
       "      <td>1.000000</td>\n",
       "      <td>-0.015386</td>\n",
       "      <td>0.013897</td>\n",
       "      <td>0.031407</td>\n",
       "      <td>0.022723</td>\n",
       "    </tr>\n",
       "    <tr>\n",
       "      <th>duration</th>\n",
       "      <td>-0.002274</td>\n",
       "      <td>-0.035253</td>\n",
       "      <td>-0.003256</td>\n",
       "      <td>0.015630</td>\n",
       "      <td>-0.005040</td>\n",
       "      <td>-0.015386</td>\n",
       "      <td>1.000000</td>\n",
       "      <td>0.010340</td>\n",
       "      <td>0.018049</td>\n",
       "      <td>0.401098</td>\n",
       "    </tr>\n",
       "    <tr>\n",
       "      <th>pdays</th>\n",
       "      <td>-0.008729</td>\n",
       "      <td>-0.009848</td>\n",
       "      <td>0.006874</td>\n",
       "      <td>0.116725</td>\n",
       "      <td>-0.031165</td>\n",
       "      <td>0.013897</td>\n",
       "      <td>0.010340</td>\n",
       "      <td>1.000000</td>\n",
       "      <td>0.577538</td>\n",
       "      <td>0.104029</td>\n",
       "    </tr>\n",
       "    <tr>\n",
       "      <th>previous</th>\n",
       "      <td>-0.003380</td>\n",
       "      <td>-0.001986</td>\n",
       "      <td>0.027318</td>\n",
       "      <td>0.038471</td>\n",
       "      <td>-0.022176</td>\n",
       "      <td>0.031407</td>\n",
       "      <td>0.018049</td>\n",
       "      <td>0.577538</td>\n",
       "      <td>1.000000</td>\n",
       "      <td>0.116669</td>\n",
       "    </tr>\n",
       "    <tr>\n",
       "      <th>resultado</th>\n",
       "      <td>0.045257</td>\n",
       "      <td>-0.061136</td>\n",
       "      <td>0.050271</td>\n",
       "      <td>-0.104899</td>\n",
       "      <td>-0.070590</td>\n",
       "      <td>0.022723</td>\n",
       "      <td>0.401098</td>\n",
       "      <td>0.104029</td>\n",
       "      <td>0.116669</td>\n",
       "      <td>1.000000</td>\n",
       "    </tr>\n",
       "  </tbody>\n",
       "</table>\n",
       "</div>"
      ],
      "text/plain": [
       "                 age  conjugue  educacao  habitacao  emprestimo   balance  \\\n",
       "age         1.000000  0.123566 -0.198970  -0.193542   -0.011079  0.081226   \n",
       "conjugue    0.123566  1.000000 -0.085789   0.027770    0.014458  0.025008   \n",
       "educacao   -0.198970 -0.085789  1.000000  -0.031314    0.016092  0.042724   \n",
       "habitacao  -0.193542  0.027770 -0.031314   1.000000    0.018242 -0.044680   \n",
       "emprestimo -0.011079  0.014458  0.016092   0.018242    1.000000 -0.074057   \n",
       "balance     0.081226  0.025008  0.042724  -0.044680   -0.074057  1.000000   \n",
       "duration   -0.002274 -0.035253 -0.003256   0.015630   -0.005040 -0.015386   \n",
       "pdays      -0.008729 -0.009848  0.006874   0.116725   -0.031165  0.013897   \n",
       "previous   -0.003380 -0.001986  0.027318   0.038471   -0.022176  0.031407   \n",
       "resultado   0.045257 -0.061136  0.050271  -0.104899   -0.070590  0.022723   \n",
       "\n",
       "            duration     pdays  previous  resultado  \n",
       "age        -0.002274 -0.008729 -0.003380   0.045257  \n",
       "conjugue   -0.035253 -0.009848 -0.001986  -0.061136  \n",
       "educacao   -0.003256  0.006874  0.027318   0.050271  \n",
       "habitacao   0.015630  0.116725  0.038471  -0.104899  \n",
       "emprestimo -0.005040 -0.031165 -0.022176  -0.070590  \n",
       "balance    -0.015386  0.013897  0.031407   0.022723  \n",
       "duration    1.000000  0.010340  0.018049   0.401098  \n",
       "pdays       0.010340  1.000000  0.577538   0.104029  \n",
       "previous    0.018049  0.577538  1.000000   0.116669  \n",
       "resultado   0.401098  0.104029  0.116669   1.000000  "
      ]
     },
     "execution_count": 28,
     "metadata": {},
     "output_type": "execute_result"
    }
   ],
   "source": [
    "# correlação entre 'balance' e 'age'\n",
    "#df['balance'].corr(df['age'])\n",
    "\n",
    "# correlação do dataframe\n",
    "arquivo_csv.corr()"
   ]
  },
  {
   "cell_type": "code",
   "execution_count": 43,
   "metadata": {},
   "outputs": [
    {
     "name": "stdout",
     "output_type": "stream",
     "text": [
      "Acuracia de trainamento clf: 0.939\n",
      "Acuracia de teste clf: 0.889\n",
      "Acuracia de trainamento clf2: 0.988\n",
      "Acuracia de teste clf2: 0.863\n"
     ]
    }
   ],
   "source": [
    "#divisao de dados atributos e classe\n",
    "x = arquivo_csv.values[:, 0:9]\n",
    "y = arquivo_csv.values[:, 9]\n",
    "\n",
    "#usando o metodo para fazer uma unica divisao dos dados\n",
    "X_train, X_test, y_train, y_test = train_test_split(x, y, test_size = 0.25, random_state = 10)\n",
    "\n",
    "#criando diferentes arvores\n",
    "clf = tree.DecisionTreeClassifier(criterion = 'entropy', max_depth = 10, random_state = 10)\n",
    "clf2 = tree.DecisionTreeClassifier(max_depth = 15, random_state = 10)\n",
    "\n",
    "clf = clf.fit(X_train, y_train)\n",
    "clf2 = clf2.fit(X_train, y_train)\n",
    "\n",
    "print(\"Acuracia de trainamento clf: %0.3f\" %  clf.score(X_train, y_train))\n",
    "print(\"Acuracia de teste clf: %0.3f\" %  clf.score(X_test, y_test))\n",
    "\n",
    "print(\"Acuracia de trainamento clf2: %0.3f\" %  clf2.score(X_train, y_train))\n",
    "print(\"Acuracia de teste clf2: %0.3f\" %  clf2.score(X_test, y_test))"
   ]
  },
  {
   "cell_type": "code",
   "execution_count": 34,
   "metadata": {},
   "outputs": [
    {
     "name": "stdout",
     "output_type": "stream",
     "text": [
      "Criando grafios de caixa da distribuicao das classes\n"
     ]
    },
    {
     "data": {
      "image/png": "[encoded data removed]",
      "text/plain": [
       "<Figure size 432x288 with 16 Axes>"
      ]
     },
     "metadata": {
      "needs_background": "light"
     },
     "output_type": "display_data"
    }
   ],
   "source": [
    "print(\"Criando grafios de caixa da distribuicao das classes\")\n",
    "arquivo_csv.plot(kind = 'box', subplots = True, layout = (4, 4), sharex = False, sharey = False)\n",
    "plt.show()"
   ]
  },
  {
   "cell_type": "code",
   "execution_count": 35,
   "metadata": {},
   "outputs": [
    {
     "name": "stdout",
     "output_type": "stream",
     "text": [
      "Criando histogramas dos dados por classes\n"
     ]
    },
    {
     "data": {
      "image/png": "[encoded data removed]",
      "text/plain": [
       "<Figure size 432x288 with 12 Axes>"
      ]
     },
     "metadata": {
      "needs_background": "light"
     },
     "output_type": "display_data"
    }
   ],
   "source": [
    "print(\"Criando histogramas dos dados por classes\")\n",
    "arquivo_csv.hist()\n",
    "plt.show()"
   ]
  },
  {
   "cell_type": "code",
   "execution_count": 40,
   "metadata": {},
   "outputs": [
    {
     "name": "stdout",
     "output_type": "stream",
     "text": [
      "Criando graficos de dispersao dos dados com paleta de cores\n"
     ]
    },
    {
     "data": {
      "image/png": "[encoded data removed]",
      "text/plain": [
       "<Figure size 432x288 with 100 Axes>"
      ]
     },
     "metadata": {
      "needs_background": "light"
     },
     "output_type": "display_data"
    }
   ],
   "source": [
    "print(\"Criando graficos de dispersao dos dados com paleta de cores\")\n",
    "#colors_palette = {'no': 'red', 'yes': 'green'}\n",
    "#colors = [colors_palette[c] for c in arquivo_csv['resultado']]\n",
    "#pd.plotting.scatter_matrix(arquivo_csv, c = colors_palette)\n",
    "pd.plotting.scatter_matrix(arquivo_csv)\n",
    "#plt.savefig('tste_fig')\n",
    "plt.show()"
   ]
  },
  {
   "cell_type": "code",
   "execution_count": 44,
   "metadata": {},
   "outputs": [
    {
     "name": "stdout",
     "output_type": "stream",
     "text": [
      "Acuracia de trainamento clf: 0.901\n",
      "Acuracia de teste clf: 0.879\n"
     ]
    }
   ],
   "source": [
    "#usando o metodo para fazer uma unica divisao dos dados\n",
    "X_train, X_test, y_train, y_test = train_test_split(x, y, test_size = 0.25, random_state = 10)\n",
    "\n",
    "# we create an instance of Neighbours Classifier and fit the data.\n",
    "clf = neighbors.KNeighborsClassifier(5)\n",
    "\n",
    "clf = clf.fit(X_train, y_train)\n",
    "\n",
    "print(\"Acuracia de trainamento clf: %0.3f\" %  clf.score(X_train, y_train))\n",
    "print(\"Acuracia de teste clf: %0.3f\" %  clf.score(X_test, y_test))"
   ]
  },
  {
   "cell_type": "code",
   "execution_count": 55,
   "metadata": {},
   "outputs": [
    {
     "name": "stdout",
     "output_type": "stream",
     "text": [
      "        age  conjugue  educacao  habitacao  emprestimo   balance  duration  \\\n",
      "0  0.161765       1.0  0.333333        0.0         0.0  0.164272  0.024826   \n",
      "1  0.205882       1.0  0.666667        1.0         1.0  0.260968  0.071500   \n",
      "2  0.235294       0.5  1.000000        1.0         0.0  0.150196  0.059914   \n",
      "3  0.161765       1.0  1.000000        1.0         1.0  0.154255  0.064548   \n",
      "4  0.588235       1.0  0.666667        1.0         0.0  0.106713  0.073486   \n",
      "\n",
      "      pdays  previous  resultado  \n",
      "0  0.000000      0.00        0.0  \n",
      "1  0.389908      0.16        0.0  \n",
      "2  0.379587      0.04        0.0  \n",
      "3  0.000000      0.00        0.0  \n",
      "4  0.000000      0.00        0.0  \n"
     ]
    }
   ],
   "source": [
    "#realizando a selecão de atributos numericos para normalizacao MinMax\n",
    "num_cols = arquivo_csv.columns[arquivo_csv.dtypes.apply(lambda c: np.issubdtype(c, np.number))]\n",
    "min_max_scaler = MinMaxScaler()\n",
    "arquivo_csv[num_cols] = min_max_scaler.fit_transform(arquivo_csv[num_cols])\n",
    "\n",
    "# Get dummy variables for categorical vars\n",
    "data_w_dummies = pd.get_dummies(arquivo_csv, prefix_sep='_', drop_first=True)\n",
    "\n",
    "# X head\n",
    "print(data_w_dummies.head())"
   ]
  },
  {
   "cell_type": "code",
   "execution_count": null,
   "metadata": {},
   "outputs": [],
   "source": []
  }
 ],
 "metadata": {
  "kernelspec": {
   "display_name": "Python 3",
   "language": "python",
   "name": "python3"
  },
  "language_info": {
   "codemirror_mode": {
    "name": "ipython",
    "version": 3
   },
   "file_extension": ".py",
   "mimetype": "text/x-python",
   "name": "python",
   "nbconvert_exporter": "python",
   "pygments_lexer": "ipython3",
   "version": "3.7.6"
  }
 },
 "nbformat": 4,
 "nbformat_minor": 4
}
