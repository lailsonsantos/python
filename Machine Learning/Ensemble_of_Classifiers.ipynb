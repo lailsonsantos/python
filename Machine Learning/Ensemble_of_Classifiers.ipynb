{
  "nbformat": 4,
  "nbformat_minor": 0,
  "metadata": {
    "kernelspec": {
      "display_name": "Python 3",
      "language": "python",
      "name": "python3"
    },
    "language_info": {
      "codemirror_mode": {
        "name": "ipython",
        "version": 3
      },
      "file_extension": ".py",
      "mimetype": "text/x-python",
      "name": "python",
      "nbconvert_exporter": "python",
      "pygments_lexer": "ipython3",
      "version": "3.8.3-final"
    },
    "colab": {
      "name": "Ensemble_of_Classifiers.ipynb",
      "provenance": []
    }
  },
  "cells": [
    {
      "cell_type": "code",
      "metadata": {
        "id": "i5h_MLLoZZdy",
        "colab_type": "code",
        "colab": {
          "base_uri": "https://localhost:8080/",
          "height": 51
        },
        "outputId": "8652a49e-4cd3-4d02-9c80-9160527dddf2",
        "tags": []
      },
      "source": [
        "#Comitê com votação entre os classificadores com AdaBoostClassifier\n",
        "import numpy as np\n",
        "import pandas\n",
        "from sklearn.model_selection import cross_val_score\n",
        "from sklearn.ensemble import AdaBoostClassifier, RandomForestClassifier\n",
        "from sklearn import tree\n",
        "seed = 1075\n",
        "np.random.seed(seed)\n",
        "\n",
        "names = ['preg', 'plas', 'pres', 'skin', 'test', 'mass', 'pedi', 'age', 'class']\n",
        "dataframe = pandas.read_csv(\"dados/pima-indians-diabetes.csv\", names = names)\n",
        "array = dataframe.values\n",
        "X = array[:,0:8]\n",
        "Y = array[:,8]\n",
        "\n",
        "# Create classifiers\n",
        "dt = tree.DecisionTreeClassifier()\n",
        "rf = RandomForestClassifier()\n",
        "\n",
        "clf_array = [dt, rf]\n",
        "for clf in clf_array:\n",
        "    pima_scores = cross_val_score(clf, X, Y, cv=10)\n",
        "    boosting_clf = AdaBoostClassifier(base_estimator = clf, n_estimators = 15, random_state = seed)\n",
        "    boosting_scores = cross_val_score(boosting_clf, X, Y, cv = 10)    \n",
        "    print('Media clf ', pima_scores.mean(), 'Desvio ', pima_scores.std(), 'Media Bagging', boosting_scores.mean(), 'Desvio ',boosting_scores.std())"
      ],
      "execution_count": 9,
      "outputs": [
        {
          "output_type": "stream",
          "name": "stdout",
          "text": "Media clf  0.7069548872180451 Desvio  0.06439963671178817 Media Bagging 0.7069548872180451 Desvio  0.06992444662948437\nMedia clf  0.7643028024606973 Desvio  0.04854353516635274 Media Bagging 0.7707963089542036 Desvio  0.05129789583709469\n"
        }
      ]
    },
    {
      "cell_type": "code",
      "metadata": {
        "id": "JVbZ7Pdtdrtv",
        "colab_type": "code",
        "colab": {
          "base_uri": "https://localhost:8080/",
          "height": 85
        },
        "outputId": "332c17ac-b1ac-4e1b-ef42-bfbe8872024b"
      },
      "source": [
        "# Get some classifiers to evaluate with BaggingClassifier\n",
        "import numpy as np\n",
        "import pandas\n",
        "from sklearn.model_selection import cross_val_score\n",
        "from sklearn.ensemble import BaggingClassifier,RandomForestClassifier\n",
        "from sklearn.neighbors import KNeighborsClassifier\n",
        "from sklearn.linear_model import RidgeClassifier\n",
        "from sklearn.neural_network import MLPClassifier\n",
        "\n",
        "seed = 1075\n",
        "np.random.seed(seed)\n",
        "\n",
        "names = ['preg', 'plas', 'pres', 'skin', 'test', 'mass', 'pedi', 'age', 'class']\n",
        "dataframe = pandas.read_csv(\"pima-indians-diabetes.csv\", names = names)\n",
        "array = dataframe.values\n",
        "X = array[:,0:8]\n",
        "Y = array[:,8]\n",
        "\n",
        "# Create classifiers\n",
        "rf = RandomForestClassifier()\n",
        "knn = KNeighborsClassifier()\n",
        "mlpc = MLPClassifier(solver = 'lbfgs', alpha = 1e-5, hidden_layer_sizes = (8, 8), random_state = seed)\n",
        "rg = RidgeClassifier()\n",
        "\n",
        "clf_array = [rf, knn, mlpc, rg]\n",
        "for clf in clf_array:\n",
        "    pima_scores = cross_val_score(clf, X, Y, cv = 10)\n",
        "    bagging_clf = BaggingClassifier(clf, max_samples = 0.8, random_state = seed)\n",
        "    bagging_scores = cross_val_score(bagging_clf, X, Y, cv = 10)    \n",
        "    print('Media clf ', pima_scores.mean(), 'Desvio ', pima_scores.std(), 'Media Bagging', bagging_scores.mean(), 'Desvio ',bagging_scores.std())"
      ],
      "execution_count": 8,
      "outputs": [
        {
          "output_type": "stream",
          "text": [
            "Media clf  0.7617224880382775 Desvio  0.049688240527885306 Media Bagging 0.7681818181818182 Desvio  0.05165900852844223\n",
            "Media clf  0.7213773069036227 Desvio  0.04416817250533367 Media Bagging 0.7343814080656186 Desvio  0.04578758550270302\n",
            "Media clf  0.6523581681476418 Desvio  0.004735120645828583 Media Bagging 0.6510594668489406 Desvio  0.003417634996582386\n",
            "Media clf  0.7734962406015038 Desvio  0.03417526057730609 Media Bagging 0.7721633629528366 Desvio  0.032430101278137696\n"
          ],
          "name": "stdout"
        }
      ]
    },
    {
      "cell_type": "code",
      "metadata": {
        "id": "KL5nJSwRb29e",
        "colab_type": "code",
        "colab": {
          "base_uri": "https://localhost:8080/",
          "height": 68
        },
        "outputId": "700e9589-babc-488e-cde0-f03781d8cb40",
        "tags": []
      },
      "source": [
        "\n",
        "# Random Forest Classification\n",
        "import pandas\n",
        "from sklearn import tree\n",
        "from sklearn import model_selection\n",
        "from sklearn.model_selection import train_test_split\n",
        "from sklearn.metrics import classification_report\n",
        "from sklearn.ensemble import RandomForestClassifier\n",
        "\n",
        "names = ['preg', 'plas', 'pres', 'skin', 'test', 'mass', 'pedi', 'age', 'class']\n",
        "dataframe = pandas.read_csv(\"dados/pima-indians-diabetes.csv\", names = names)\n",
        "array = dataframe.values\n",
        "X = array[:,0:8]\n",
        "Y = array[:,8]\n",
        "seed = 7\n",
        "num_trees = 21\n",
        "max_features = 7\n",
        "\n",
        "kfold = model_selection.StratifiedKFold(n_splits = 10, random_state = seed)\n",
        "model = RandomForestClassifier(n_estimators = num_trees, max_features = max_features)\n",
        "results = model_selection.cross_val_score(model, X, Y, cv = kfold)\n",
        "\n",
        "print(results, results.mean())\n",
        "\n",
        "X_train, X_test, y_train, y_test = train_test_split(X, Y, test_size = 0.30, random_state = seed)\n",
        "\n",
        "clf = tree.DecisionTreeClassifier(criterion = 'entropy', random_state = seed)\n",
        "clf = clf.fit(X_train, y_train)\n",
        "\n",
        "print(\"Acuracia: %0.3f\" %  clf.score(X_test, y_test))"
      ],
      "execution_count": 5,
      "outputs": [
        {
          "output_type": "stream",
          "name": "stdout",
          "text": "[0.68831169 0.83116883 0.72727273 0.67532468 0.74025974 0.79220779\n 0.77922078 0.83116883 0.69736842 0.80263158] 0.7564935064935066\nAcuracia: 0.736\n"
        }
      ]
    },
    {
      "cell_type": "code",
      "metadata": {
        "id": "OtzavXvMc7Y1",
        "colab_type": "code",
        "colab": {
          "base_uri": "https://localhost:8080/",
          "height": 34
        },
        "outputId": "e76a4b04-0221-4cc6-b2ad-316fc47d568b",
        "tags": []
      },
      "source": [
        "# Voting Ensemble for Classification\n",
        "import pandas\n",
        "from sklearn import model_selection\n",
        "from sklearn.linear_model import LogisticRegression\n",
        "from sklearn.tree import DecisionTreeClassifier\n",
        "from sklearn.neural_network import MLPClassifier\n",
        "from sklearn.ensemble import VotingClassifier\n",
        "import warnings\n",
        "warnings.filterwarnings(\"ignore\")\n",
        "\n",
        "names = ['preg', 'plas', 'pres', 'skin', 'test', 'mass', 'pedi', 'age', 'class']\n",
        "dataframe = pandas.read_csv(\"dados/pima-indians-diabetes.csv\", names = names)\n",
        "array = dataframe.values\n",
        "X = array[:,0:8]\n",
        "Y = array[:,8]\n",
        "seed = 5\n",
        "kfold = model_selection.StratifiedKFold(n_splits = 10, random_state = seed)\n",
        "\n",
        "# create the sub models\n",
        "estimators = []\n",
        "model1 = LogisticRegression()\n",
        "estimators.append(('logistic', model1))\n",
        "model2 = DecisionTreeClassifier()\n",
        "estimators.append(('cart', model2))\n",
        "model3 = MLPClassifier(solver='lbfgs', alpha = 1e-5, hidden_layer_sizes = (8, 8), random_state = 5)\n",
        "estimators.append(('mlp', model3))\n",
        "# create the ensemble model\n",
        "ensemble = VotingClassifier(estimators)\n",
        "results = model_selection.cross_val_score(ensemble, X, Y, cv = kfold)\n",
        "print(results.mean())"
      ],
      "execution_count": 8,
      "outputs": [
        {
          "output_type": "stream",
          "name": "stdout",
          "text": "0.7604408749145593\n"
        }
      ]
    },
    {
      "cell_type": "code",
      "execution_count": null,
      "metadata": {},
      "outputs": [],
      "source": []
    }
  ]
}