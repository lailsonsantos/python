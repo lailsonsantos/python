{
 "cells": [
  {
   "cell_type": "code",
   "execution_count": null,
   "metadata": {},
   "outputs": [],
   "source": [
    "import pandas\n",
    "from sklearn.model_selection import train_test_split\n",
    "from sklearn import tree\n",
    "from sklearn.preprocessing import LabelEncoder\n",
    "\n",
    "#definindo os nomes de cada coluna   \n",
    "names = ['num-pregnant', 'glucose', 'diastolic', 'triceps-skin', 'insulin', 'body-mass', 'diabetes-pedigree', 'age', 'class']\n",
    "\n",
    "#Fazendo o carregamento dos dados diretamente do UCI Machine Learning          \n",
    "dataset = pandas.read_csv(\"dados/pima-indians-diabetes.csv\", names = names)\n",
    "\n",
    "print(\"Primeiros dados\")\n",
    "print(dataset.head(5))\n",
    "\n",
    "#Convertendo dados categoricos para dados numericos\n",
    "le = LabelEncoder()\n",
    "for column_name in dataset.columns:\n",
    "    if dataset[column_name].dtype == object:\n",
    "        dataset[column_name] = le.fit_transform(dataset[column_name])\n",
    "    else:\n",
    "        pass\n",
    "\n",
    "#divisao de dados atributos e classe\n",
    "X = dataset.values[:, 0:7]\n",
    "Y = dataset.values[:,8]\n",
    "\n",
    "#usando o metodo para fazer uma unica divisao dos dados\n",
    "X_train, X_test, y_train, y_test = train_test_split(X, Y, test_size = 0.25, random_state = 10)\n",
    "\n",
    "#criando diferentes arvores\n",
    "clf = tree.DecisionTreeClassifier(criterion = 'entropy', max_depth = 10, random_state = 10)\n",
    "clf2 = tree.DecisionTreeClassifier(max_depth = 15, random_state = 10)\n",
    "\n",
    "clf = clf.fit(X_train, y_train)\n",
    "clf2 = clf2.fit(X_train, y_train)\n",
    "\n",
    "print(\"Acuracia de trainamento clf: %0.3f\" %  clf.score(X_train, y_train))\n",
    "print(\"Acuracia de teste clf: %0.3f\" %  clf.score(X_test, y_test))\n",
    "\n",
    "print(\"Acuracia de trainamento clf2: %0.3f\" %  clf2.score(X_train, y_train))\n",
    "print(\"Acuracia de teste clf2: %0.3f\" %  clf2.score(X_test, y_test))\n",
    "\n",
    "print(\"Profundidade das arvores criadas\")\n",
    "print(clf.tree_.max_depth)\n",
    "print(clf2.tree_.max_depth)"
   ]
  },
  {
   "cell_type": "code",
   "execution_count": null,
   "metadata": {},
   "outputs": [],
   "source": [
    "Y"
   ]
  }
 ],
 "metadata": {
  "kernelspec": {
   "display_name": "Python 3",
   "language": "python",
   "name": "python3"
  },
  "language_info": {
   "codemirror_mode": {
    "name": "ipython",
    "version": 3
   },
   "file_extension": ".py",
   "mimetype": "text/x-python",
   "name": "python",
   "nbconvert_exporter": "python",
   "pygments_lexer": "ipython3",
   "version": "3.7.6"
  }
 },
 "nbformat": 4,
 "nbformat_minor": 4
}
