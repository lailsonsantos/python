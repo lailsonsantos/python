{
 "cells": [
  {
   "cell_type": "code",
   "execution_count": 22,
   "metadata": {},
   "outputs": [],
   "source": [
    "import pandas\n",
    "from sklearn.model_selection import train_test_split\n",
    "from sklearn.neural_network import MLPClassifier\n",
    "from sklearn.preprocessing import LabelEncoder"
   ]
  },
  {
   "cell_type": "code",
   "execution_count": 23,
   "metadata": {},
   "outputs": [],
   "source": [
    "#definindo os nomes de cada coluna   \n",
    "names = ['num-pregnant', 'glucose', 'diastolic', 'triceps-skin', 'insulin', 'body-mass', 'diabetes-pedigree', 'age', 'class']"
   ]
  },
  {
   "cell_type": "code",
   "execution_count": 24,
   "metadata": {},
   "outputs": [],
   "source": [
    "#Fazendo o carregamento dos dados diretamente do UCI Machine Learning          \n",
    "dataset = pandas.read_csv(\"dados/pima-indians-diabetes.csv\", names=names)"
   ]
  },
  {
   "cell_type": "code",
   "execution_count": 25,
   "metadata": {},
   "outputs": [
    {
     "name": "stdout",
     "output_type": "stream",
     "text": [
      "Primeiros dados\n",
      "   num-pregnant  glucose  diastolic  triceps-skin  insulin  body-mass  \\\n",
      "0             6      148         72            35        0       33.6   \n",
      "1             1       85         66            29        0       26.6   \n",
      "2             8      183         64             0        0       23.3   \n",
      "3             1       89         66            23       94       28.1   \n",
      "4             0      137         40            35      168       43.1   \n",
      "\n",
      "   diabetes-pedigree  age  class  \n",
      "0              0.627   50      1  \n",
      "1              0.351   31      0  \n",
      "2              0.672   32      1  \n",
      "3              0.167   21      0  \n",
      "4              2.288   33      1  \n"
     ]
    }
   ],
   "source": [
    "print(\"Primeiros dados\")\n",
    "print(dataset.head(5))"
   ]
  },
  {
   "cell_type": "code",
   "execution_count": 26,
   "metadata": {},
   "outputs": [],
   "source": [
    "#Convertendo dados categoricos para dados numericos\n",
    "le = LabelEncoder()\n",
    "for column_name in dataset.columns:\n",
    "    if dataset[column_name].dtype == object:\n",
    "        dataset[column_name] = pandas.Categorical(dataset[column_name]).codes()\n",
    "        #dataset[column_name] = le.fit_transform(dataset[column_name])\n",
    "    else:\n",
    "        pass"
   ]
  },
  {
   "cell_type": "code",
   "execution_count": 27,
   "metadata": {},
   "outputs": [],
   "source": [
    "#divisao de dados atributos e classe\n",
    "X = dataset.values[:, 0:7]\n",
    "Y = dataset.values[:,8]"
   ]
  },
  {
   "cell_type": "code",
   "execution_count": 28,
   "metadata": {},
   "outputs": [],
   "source": [
    "#usando o metodo para fazer uma unica divisao dos dados\n",
    "X_train, X_test, y_train, y_test = train_test_split(X, Y, test_size = 0.25, random_state = 1)"
   ]
  },
  {
   "cell_type": "code",
   "execution_count": 29,
   "metadata": {},
   "outputs": [
    {
     "name": "stderr",
     "output_type": "stream",
     "text": [
      "C:\\Users\\lailson\\anaconda3\\lib\\site-packages\\sklearn\\neural_network\\_multilayer_perceptron.py:571: ConvergenceWarning: Stochastic Optimizer: Maximum iterations (200) reached and the optimization hasn't converged yet.\n",
      "  % self.max_iter, ConvergenceWarning)\n"
     ]
    },
    {
     "name": "stdout",
     "output_type": "stream",
     "text": [
      "Acuracia de trainamento MLP1: 0.575\n",
      "Acuracia de teste MLP1: 0.604\n",
      "Acuracia de trainamento MLP2: 0.628\n",
      "Acuracia de teste MLP2: 0.594\n",
      "Acuracia de trainamento MLP3 clf: 0.727\n",
      "Acuracia de teste MLP3: 0.688\n"
     ]
    },
    {
     "name": "stderr",
     "output_type": "stream",
     "text": [
      "C:\\Users\\lailson\\anaconda3\\lib\\site-packages\\sklearn\\neural_network\\_multilayer_perceptron.py:571: ConvergenceWarning: Stochastic Optimizer: Maximum iterations (200) reached and the optimization hasn't converged yet.\n",
      "  % self.max_iter, ConvergenceWarning)\n"
     ]
    }
   ],
   "source": [
    "#criando diferentes RNAs\n",
    "mlp1 = MLPClassifier(hidden_layer_sizes = ([15]))\n",
    "mlp2 = MLPClassifier(hidden_layer_sizes = (6, 6), random_state = 1)\n",
    "mlp3 = MLPClassifier(hidden_layer_sizes = ([8, 12, 5]))\n",
    "\n",
    "mlp1 = mlp1.fit(X_train,y_train)\n",
    "mlp2 = mlp2.fit(X_train,y_train)\n",
    "mlp3 = mlp3.fit(X_train,y_train)\n",
    "\n",
    "print(\"Acuracia de trainamento MLP1: %0.3f\" %  mlp1.score(X_train, y_train))\n",
    "print(\"Acuracia de teste MLP1: %0.3f\" %  mlp1.score(X_test, y_test))\n",
    "\n",
    "print(\"Acuracia de trainamento MLP2: %0.3f\" %  mlp2.score(X_train, y_train))\n",
    "print(\"Acuracia de teste MLP2: %0.3f\" %  mlp2.score(X_test, y_test))\n",
    "\n",
    "print(\"Acuracia de trainamento MLP3 clf: %0.3f\" %  mlp3.score(X_train, y_train))\n",
    "print(\"Acuracia de teste MLP3: %0.3f\" %  mlp3.score(X_test, y_test))"
   ]
  },
  {
   "cell_type": "code",
   "execution_count": null,
   "metadata": {},
   "outputs": [],
   "source": []
  }
 ],
 "metadata": {
  "kernelspec": {
   "display_name": "Python 3",
   "language": "python",
   "name": "python3"
  },
  "language_info": {
   "codemirror_mode": {
    "name": "ipython",
    "version": 3
   },
   "file_extension": ".py",
   "mimetype": "text/x-python",
   "name": "python",
   "nbconvert_exporter": "python",
   "pygments_lexer": "ipython3",
   "version": "3.7.6"
  }
 },
 "nbformat": 4,
 "nbformat_minor": 4
}
